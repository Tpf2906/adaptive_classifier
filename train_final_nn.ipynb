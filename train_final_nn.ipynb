{
 "cells": [
  {
   "cell_type": "code",
   "execution_count": 1,
   "id": "04566d21",
   "metadata": {},
   "outputs": [],
   "source": [
    "import torch\n",
    "import matplotlib.pyplot as plt\n",
    "import os\n",
    "from sklearn.metrics import accuracy_score\n",
    "import joblib\n",
    "import sys\n",
    "import numpy as np\n",
    "import json\n",
    "import time\n",
    "from sklearn.metrics import (\n",
    "    accuracy_score, recall_score, f1_score, precision_score, roc_auc_score,\n",
    "    top_k_accuracy_score\n",
    ")\n",
    "\n",
    "\n",
    "MAX_EPOCHS = 25000\n",
    "\n",
    "DEVICE = torch.device(\"cuda\" if torch.cuda.is_available() else \"cpu\")\n",
    "# Set the random seed for reproducibility\n",
    "SEED = 42\n",
    "torch.manual_seed(SEED)\n",
    "np.random.seed(SEED)\n"
   ]
  },
  {
   "cell_type": "code",
   "execution_count": 2,
   "id": "882be703",
   "metadata": {},
   "outputs": [
    {
     "name": "stdout",
     "output_type": "stream",
     "text": [
      "\n",
      "--- ACC ---\n",
      "Metrics:\n",
      "  accuracy: 0.6493702770780856\n",
      "  recall: 0.6493702770780856\n",
      "  f1_score: 0.6189334693848085\n",
      "  precision: 0.6173809469340443\n",
      "  roc_auc: 0.9416404505495262\n",
      "  top5_accuracy: 0.8997481108312343\n",
      "  inference_time: 9.356147527694702\n",
      "Updated Weights:\n",
      "[0.07719512283802032, 0.16135337948799133, 0.06362076848745346, 0.16351158916950226, 0.17402200400829315, 0.0, 0.0, 0.0, 0.08711770921945572, 0.13290242850780487, 0.14027704298496246]\n",
      "\n",
      "--- RECALL ---\n",
      "Metrics:\n",
      "  accuracy: 0.6337531486146095\n",
      "  recall: 0.6337531486146095\n",
      "  f1_score: 0.6142130942594919\n",
      "  precision: 0.6203917490051634\n",
      "  roc_auc: 0.9405445894466619\n",
      "  top5_accuracy: 0.9032745591939546\n",
      "  inference_time: 8.8707594871521\n",
      "Updated Weights:\n",
      "[0.303228497505188, 0.13721773028373718, 0.09513887763023376, 0.23675239086151123, 0.0, 0.08771230280399323, 0.0, 0.03424537926912308, 0.10570481419563293, 0.0, 0.0]\n",
      "\n",
      "--- F1 ---\n",
      "Metrics:\n",
      "  accuracy: 0.6463476070528967\n",
      "  recall: 0.6463476070528967\n",
      "  f1_score: 0.6223835033139069\n",
      "  precision: 0.616577005825025\n",
      "  roc_auc: 0.9401041911798013\n",
      "  top5_accuracy: 0.9007556675062972\n",
      "  inference_time: 3.3466830253601074\n",
      "Updated Weights:\n",
      "[0.3824222981929779, 0.0, 0.0, 0.1668625921010971, 0.2866675555706024, 0.0, 0.0, 0.0, 0.0, 0.1640474945306778, 0.0]\n",
      "\n",
      "--- PRECISION ---\n",
      "Metrics:\n",
      "  accuracy: 0.6418136020151134\n",
      "  recall: 0.6418136020151134\n",
      "  f1_score: 0.6168829099108196\n",
      "  precision: 0.6205134816104734\n",
      "  roc_auc: 0.9378252997330851\n",
      "  top5_accuracy: 0.9042821158690176\n",
      "  inference_time: 8.779212713241577\n",
      "Updated Weights:\n",
      "[0.2946789264678955, 0.25208231806755066, 0.0, 0.2509060502052307, 0.0, 0.0, 0.0, 0.20233266055583954, 0.0, 0.0, 0.0]\n",
      "\n",
      "--- TOP5 ---\n",
      "Metrics:\n",
      "  accuracy: 0.5622166246851386\n",
      "  recall: 0.5622166246851386\n",
      "  f1_score: 0.5641753237466651\n",
      "  precision: 0.5998869952655739\n",
      "  roc_auc: 0.93533977324051\n",
      "  top5_accuracy: 0.9133501259445844\n",
      "  inference_time: 3.2631583213806152\n",
      "Updated Weights:\n",
      "[0.2622438371181488, 0.0, 0.0, 0.3989412188529968, 0.0, 0.0, 0.0, 0.0, 0.3388148844242096, 0.0, 0.0]\n",
      "\n",
      "--- AUC ---\n",
      "Metrics:\n",
      "  accuracy: 0.5118387909319899\n",
      "  recall: 0.5118387909319899\n",
      "  f1_score: 0.4773661410895331\n",
      "  precision: 0.47109952159362783\n",
      "  roc_auc: 0.9290893661009583\n",
      "  top5_accuracy: 0.890176322418136\n",
      "  inference_time: 5.258897304534912\n",
      "Updated Weights:\n",
      "[0.0, 0.33038970828056335, 0.37122973799705505, 0.0, 0.0, 0.0, 0.0, 0.298380583524704, 0.0, 0.0, 0.0]\n",
      "\n",
      "--- TIME ---\n",
      "Metrics:\n",
      "  accuracy: 0.46700251889168765\n",
      "  recall: 0.46700251889168765\n",
      "  f1_score: 0.4384078701932947\n",
      "  precision: 0.43136658709544345\n",
      "  roc_auc: 0.7925719522263934\n",
      "  top5_accuracy: 0.745088161209068\n",
      "  inference_time: 0.049428701400756836\n",
      "Updated Weights:\n",
      "[0.0, 0.0, 0.0, 0.0, 0.0, 0.0, 0.0, 0.0, 0.0, 1.0, 0.0]\n"
     ]
    }
   ],
   "source": [
    "# Load JSON file\n",
    "with open('ensemble_results.json', 'r') as file:\n",
    "    data = json.load(file)\n",
    "\n",
    "# Function to process each entry\n",
    "def process_entry(entry):\n",
    "    metrics = {\n",
    "        \"accuracy\": entry[\"accuracy\"],\n",
    "        \"recall\": entry[\"recall\"],\n",
    "        \"f1_score\": entry[\"f1_score\"],\n",
    "        \"precision\": entry[\"precision\"],\n",
    "        \"roc_auc\": entry[\"roc_auc\"],\n",
    "        \"top5_accuracy\": entry[\"top5_accuracy\"],\n",
    "        \"inference_time\": entry[\"inference_time\"]\n",
    "    }\n",
    "\n",
    "    weights = entry[\"selected_weights\"]\n",
    "    activations = entry[\"activation_bits\"]\n",
    "\n",
    "    weight_index = 0\n",
    "    updated_weights = []\n",
    "\n",
    "    for bit in activations:\n",
    "        if bit > 0.5 and weight_index < len(weights):\n",
    "            updated_weights.append(weights[weight_index])\n",
    "            weight_index += 1\n",
    "        else:\n",
    "            updated_weights.append(0.0)\n",
    "\n",
    "    return {\n",
    "        \"metrics\": metrics,\n",
    "        \"updated_weights\": updated_weights\n",
    "    }\n",
    "\n",
    "# Dictionary to hold results for each key\n",
    "results = {}\n",
    "\n",
    "# Loop through all keys in the file\n",
    "for key, entry in data.items():\n",
    "    results[key] = process_entry(entry)\n",
    "\n",
    "# Example: print everything nicely\n",
    "for key, info in results.items():\n",
    "    print(f\"\\n--- {key.upper()} ---\")\n",
    "    print(\"Metrics:\")\n",
    "    for m_key, m_val in info[\"metrics\"].items():\n",
    "        print(f\"  {m_key}: {m_val}\")\n",
    "    print(\"Updated Weights:\")\n",
    "    print(info[\"updated_weights\"])\n",
    "\n",
    "\n"
   ]
  },
  {
   "cell_type": "code",
   "execution_count": 3,
   "id": "c5ace8ad",
   "metadata": {},
   "outputs": [
    {
     "name": "stdout",
     "output_type": "stream",
     "text": [
      "[0.6493702770780856, 0.6493702770780856, 0.6189334693848085, 0.6173809469340443, 0.9416404505495262, 0.8997481108312343, 9.356147527694702, 0.6337531486146095, 0.6337531486146095, 0.6142130942594919, 0.6203917490051634, 0.9405445894466619, 0.9032745591939546, 8.8707594871521, 0.6463476070528967, 0.6463476070528967, 0.6223835033139069, 0.616577005825025, 0.9401041911798013, 0.9007556675062972, 3.3466830253601074, 0.6418136020151134, 0.6418136020151134, 0.6168829099108196, 0.6205134816104734, 0.9378252997330851, 0.9042821158690176, 8.779212713241577, 0.5622166246851386, 0.5622166246851386, 0.5641753237466651, 0.5998869952655739, 0.93533977324051, 0.9133501259445844, 3.2631583213806152, 0.5118387909319899, 0.5118387909319899, 0.4773661410895331, 0.47109952159362783, 0.9290893661009583, 0.890176322418136, 5.258897304534912, 0.46700251889168765, 0.46700251889168765, 0.4384078701932947, 0.43136658709544345, 0.7925719522263934, 0.745088161209068, 0.049428701400756836]\n"
     ]
    }
   ],
   "source": [
    "metrics = []\n",
    "\n",
    "metric_keys = [\n",
    "    \"accuracy\", \"recall\", \"f1_score\",\n",
    "    \"precision\", \"roc_auc\", \"top5_accuracy\",\n",
    "    \"inference_time\"\n",
    "]\n",
    "\n",
    "# Go through each key and extract just the metric values\n",
    "for entry in data.values():\n",
    "    for key in metric_keys:\n",
    "        metrics.append(entry[key])\n",
    "\n",
    "print(metrics)\n"
   ]
  },
  {
   "cell_type": "code",
   "execution_count": 4,
   "id": "0eb5fef8",
   "metadata": {},
   "outputs": [],
   "source": [
    "keys = [\"acc\", \"recall\", \"f1\", \"precision\", \"auc\", \"top5\", \"time\"]\n",
    "\n",
    "def generate_one_hot_and_metrics(results_dict):\n",
    "    \n",
    "    num_classes = len(results_dict) \n",
    "    # Create one-hot input\n",
    "    index = np.random.randint(0, num_classes)\n",
    "    one_hot = np.zeros(num_classes)\n",
    "    one_hot[index] = 1\n",
    "    key = keys[index]\n",
    "    # Retrieve the metrics corresponding to the index\n",
    "    selected_key = results_dict[key]\n",
    "    \n",
    "    selected_weights = selected_key[\"updated_weights\"]\n",
    "\n",
    "    # Create tensor versions\n",
    "    input_tensor = torch.tensor(one_hot, dtype=torch.float32).to(DEVICE)\n",
    "    target_tensor = torch.tensor([selected_weights], dtype=torch.float32).to(DEVICE)\n",
    "\n",
    "    return input_tensor, target_tensor"
   ]
  },
  {
   "cell_type": "code",
   "execution_count": 5,
   "id": "4081ce7d",
   "metadata": {},
   "outputs": [
    {
     "name": "stdout",
     "output_type": "stream",
     "text": [
      "Generated Input: tensor([0., 0., 0., 0., 0., 0., 1.], device='cuda:0')\n",
      "Target Metrics: tensor([[0., 0., 0., 0., 0., 0., 0., 0., 0., 1., 0.]], device='cuda:0')\n"
     ]
    }
   ],
   "source": [
    "input_vec, target_metrics = generate_one_hot_and_metrics(results)\n",
    "\n",
    "print(\"Generated Input:\", input_vec)\n",
    "print(\"Target Metrics:\", target_metrics)"
   ]
  },
  {
   "cell_type": "code",
   "execution_count": 6,
   "id": "3668f418",
   "metadata": {},
   "outputs": [],
   "source": [
    "from ensembler import FinalWeightGeneratorNN\n",
    "\n",
    "model = FinalWeightGeneratorNN().to(DEVICE)\n",
    "optimizer = torch.optim.Adam(model.parameters(), lr=0.001)"
   ]
  },
  {
   "cell_type": "code",
   "execution_count": 7,
   "id": "14f162cd",
   "metadata": {},
   "outputs": [
    {
     "name": "stderr",
     "output_type": "stream",
     "text": [
      "Training: 100%|██████████| 25000/25000 [00:52<00:00, 480.68it/s]\n"
     ]
    }
   ],
   "source": [
    "from tqdm import tqdm\n",
    "\n",
    "losses = []\n",
    "\n",
    "for epoch in tqdm(range(MAX_EPOCHS), desc=\"Training\"):\n",
    "    # Generate input and target\n",
    "    input_tensor, target_tensor = generate_one_hot_and_metrics(results)\n",
    "\n",
    "    # Append all metrics to the one-hot input\n",
    "    metrics_tensor = torch.tensor(metrics, dtype=torch.float32).to(DEVICE)\n",
    "    input_tensor = torch.cat((input_tensor, metrics_tensor), dim=0)\n",
    "\n",
    "    # Train step (assuming model.train_step returns a scalar loss)\n",
    "    loss = model.train_step(input_tensor, target_tensor, optimizer)\n",
    "\n",
    "    # Save loss\n",
    "    losses.append(loss)  \n",
    "    \n",
    "\n",
    "torch.save(model.state_dict(), \"final_weight_generator.pth\")\n",
    "    \n",
    "\n"
   ]
  },
  {
   "cell_type": "code",
   "execution_count": 8,
   "id": "12d1e1a6",
   "metadata": {},
   "outputs": [
    {
     "data": {
      "image/png": "[encoded data removed]",
      "text/plain": [
       "<Figure size 640x480 with 1 Axes>"
      ]
     },
     "metadata": {},
     "output_type": "display_data"
    }
   ],
   "source": [
    "import matplotlib.pyplot as plt\n",
    "\n",
    "plt.plot(losses)\n",
    "plt.xlabel(\"Epoch\")\n",
    "plt.ylabel(\"Loss\")\n",
    "plt.title(\"Training Loss over Epochs\")\n",
    "plt.grid(True)\n",
    "plt.show()\n"
   ]
  }
 ],
 "metadata": {
  "kernelspec": {
   "display_name": "venv",
   "language": "python",
   "name": "python3"
  },
  "language_info": {
   "codemirror_mode": {
    "name": "ipython",
    "version": 3
   },
   "file_extension": ".py",
   "mimetype": "text/x-python",
   "name": "python",
   "nbconvert_exporter": "python",
   "pygments_lexer": "ipython3",
   "version": "3.12.3"
  }
 },
 "nbformat": 4,
 "nbformat_minor": 5
}
