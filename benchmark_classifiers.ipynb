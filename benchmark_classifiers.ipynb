{
 "cells": [
  {
   "cell_type": "markdown",
   "id": "617e1f19",
   "metadata": {},
   "source": [
    "## Get BaseClassifiers statistics"
   ]
  },
  {
   "cell_type": "code",
   "execution_count": 1,
   "id": "0050fdc1",
   "metadata": {},
   "outputs": [],
   "source": [
    "import torch\n",
    "import matplotlib.pyplot as plt\n",
    "import os\n",
    "from sklearn.metrics import accuracy_score\n",
    "import joblib\n",
    "import sys\n",
    "import numpy as np\n",
    "import json\n",
    "import time\n",
    "from sklearn.metrics import (\n",
    "    accuracy_score, recall_score, f1_score, precision_score, roc_auc_score,\n",
    "    top_k_accuracy_score\n",
    ")\n",
    "\n",
    "\n",
    "CLIP_FEATURES_DIR = \"clip_features\"\n",
    "VAL = CLIP_FEATURES_DIR + \"/val_features.pt\"\n",
    "SCALER = \"scaler_model.joblib\"\n",
    "PCA = \"pca_model.joblib\"\n",
    "LIME = \"top_k_lime_indices.joblib\""
   ]
  },
  {
   "cell_type": "code",
   "execution_count": 2,
   "id": "7993a267",
   "metadata": {},
   "outputs": [],
   "source": [
    "def load_features(file_path):\n",
    "    data = torch.load(file_path)\n",
    "    return data[\"image_features\"], data[\"text_features\"], data[\"filenames\"], data[\"labels\"]\n",
    "\n",
    "\n",
    "# Load train and validation features\n",
    "val_img_features, val_txt_features, _, val_labels = load_features(VAL)"
   ]
  },
  {
   "cell_type": "code",
   "execution_count": 3,
   "id": "fc9b3208",
   "metadata": {},
   "outputs": [
    {
     "name": "stdout",
     "output_type": "stream",
     "text": [
      "X_val shape: (1985, 1024)\n",
      "X_val_pca shape: (1985, 563)\n",
      "X_val_lime shape: (1985, 250)\n"
     ]
    }
   ],
   "source": [
    "# Combine image and text features for training\n",
    "X_val = torch.cat((val_img_features, val_txt_features), dim=1)\n",
    "\n",
    "# Flatten features into a 2D matrix (samples x features)\n",
    "X_val = X_val.view(X_val.size(0), -1).numpy()\n",
    "\n",
    "# Print the shape of the features\n",
    "print(f\"X_val shape: {X_val.shape}\")\n",
    "\n",
    "# Convert labels to NumPy arrays\n",
    "y_val = val_labels.numpy()  \n",
    "\n",
    "# Load scaler and PCA models\n",
    "scaler = joblib.load(SCALER)\n",
    "pca = joblib.load(PCA)\n",
    "lime = joblib.load(LIME)\n",
    "\n",
    "# Scale and transform the features\n",
    "X_val_scaled = scaler.transform(X_val)\n",
    "X_val_pca = pca.transform(X_val_scaled)\n",
    "X_val_lime = X_val_scaled[:, lime]\n",
    "\n",
    "\n",
    "print(f\"X_val_pca shape: {X_val_pca.shape}\")\n",
    "print(f\"X_val_lime shape: {X_val_lime.shape}\")"
   ]
  },
  {
   "cell_type": "code",
   "execution_count": null,
   "id": "ae528bbb",
   "metadata": {},
   "outputs": [
    {
     "name": "stdout",
     "output_type": "stream",
     "text": [
      "\n",
      "Evaluating SVM...\n",
      "Loaded model from: models_pca/SVM.joblib\n",
      "Loaded label encoder from: models_pca/label_encoder.joblib\n",
      "Probability-based metrics not available for SVM: Number of classes in y_true not equal to the number of columns in 'y_score'\n",
      "SVM -> Accuracy: 0.6247, F1: 0.6076, Precision: 0.6079, Recall: 0.6247, Time: 2.9883s\n",
      "\n",
      "Evaluating RBF...\n",
      "Loaded model from: models_pca/RBF.joblib\n",
      "Loaded label encoder from: models_pca/label_encoder.joblib\n"
     ]
    },
    {
     "name": "stderr",
     "output_type": "stream",
     "text": [
      "/home/tiago/thesis/venv/lib/python3.12/site-packages/sklearn/metrics/_classification.py:1565: UndefinedMetricWarning: Precision is ill-defined and being set to 0.0 in labels with no predicted samples. Use `zero_division` parameter to control this behavior.\n",
      "  _warn_prf(average, modifier, f\"{metric.capitalize()} is\", len(result))\n"
     ]
    },
    {
     "name": "stdout",
     "output_type": "stream",
     "text": [
      "Probability-based metrics not available for RBF: Number of classes in y_true not equal to the number of columns in 'y_score'\n",
      "RBF -> Accuracy: 0.6448, F1: 0.5954, Precision: 0.5895, Recall: 0.6448, Time: 5.0745s\n",
      "\n",
      "Evaluating Random Forest...\n",
      "Loaded model from: models_pca/RandomForest.joblib\n",
      "Loaded label encoder from: models_pca/label_encoder.joblib\n"
     ]
    },
    {
     "name": "stderr",
     "output_type": "stream",
     "text": [
      "/home/tiago/thesis/venv/lib/python3.12/site-packages/sklearn/metrics/_classification.py:1565: UndefinedMetricWarning: Precision is ill-defined and being set to 0.0 in labels with no predicted samples. Use `zero_division` parameter to control this behavior.\n",
      "  _warn_prf(average, modifier, f\"{metric.capitalize()} is\", len(result))\n"
     ]
    },
    {
     "name": "stdout",
     "output_type": "stream",
     "text": [
      "Probability-based metrics not available for Random Forest: Number of classes in y_true not equal to the number of columns in 'y_score'\n",
      "Random Forest -> Accuracy: 0.4408, F1: 0.3020, Precision: 0.3116, Recall: 0.4408, Time: 0.0518s\n",
      "\n",
      "Evaluating Naive Bayes...\n",
      "Loaded model from: models_pca/NaiveBayes.joblib\n",
      "Loaded label encoder from: models_pca/label_encoder.joblib\n"
     ]
    },
    {
     "name": "stderr",
     "output_type": "stream",
     "text": [
      "/home/tiago/thesis/venv/lib/python3.12/site-packages/sklearn/metrics/_classification.py:1565: UndefinedMetricWarning: Precision is ill-defined and being set to 0.0 in labels with no predicted samples. Use `zero_division` parameter to control this behavior.\n",
      "  _warn_prf(average, modifier, f\"{metric.capitalize()} is\", len(result))\n"
     ]
    },
    {
     "name": "stdout",
     "output_type": "stream",
     "text": [
      "Probability-based metrics not available for Naive Bayes: Number of classes in y_true not equal to the number of columns in 'y_score'\n",
      "Naive Bayes -> Accuracy: 0.5557, F1: 0.5599, Precision: 0.6004, Recall: 0.5557, Time: 0.3439s\n",
      "\n",
      "Evaluating Logistic Regression...\n",
      "Loaded model from: models_pca/LogisticRegression.joblib\n",
      "Loaded label encoder from: models_pca/label_encoder.joblib\n",
      "Probability-based metrics not available for Logistic Regression: Number of classes in y_true not equal to the number of columns in 'y_score'\n",
      "Logistic Regression -> Accuracy: 0.6176, F1: 0.6066, Precision: 0.6087, Recall: 0.6176, Time: 0.0233s\n",
      "\n",
      "Evaluating LDA...\n",
      "Loaded model from: models_pca/LDA.joblib\n",
      "Loaded label encoder from: models_pca/label_encoder.joblib\n",
      "Probability-based metrics not available for LDA: Number of classes in y_true not equal to the number of columns in 'y_score'\n",
      "LDA -> Accuracy: 0.5889, F1: 0.5863, Precision: 0.6221, Recall: 0.5889, Time: 0.0106s\n",
      "\n",
      "Evaluating KNN...\n",
      "Loaded model from: models_pca/KNN.joblib\n",
      "Loaded label encoder from: models_pca/label_encoder.joblib\n"
     ]
    },
    {
     "name": "stderr",
     "output_type": "stream",
     "text": [
      "/home/tiago/thesis/venv/lib/python3.12/site-packages/sklearn/metrics/_classification.py:1565: UndefinedMetricWarning: Precision is ill-defined and being set to 0.0 in labels with no predicted samples. Use `zero_division` parameter to control this behavior.\n",
      "  _warn_prf(average, modifier, f\"{metric.capitalize()} is\", len(result))\n",
      "/home/tiago/thesis/venv/lib/python3.12/site-packages/sklearn/metrics/_classification.py:1565: UndefinedMetricWarning: Precision is ill-defined and being set to 0.0 in labels with no predicted samples. Use `zero_division` parameter to control this behavior.\n",
      "  _warn_prf(average, modifier, f\"{metric.capitalize()} is\", len(result))\n",
      "/home/tiago/thesis/venv/lib/python3.12/site-packages/sklearn/metrics/_classification.py:1565: UndefinedMetricWarning: Precision is ill-defined and being set to 0.0 in labels with no predicted samples. Use `zero_division` parameter to control this behavior.\n",
      "  _warn_prf(average, modifier, f\"{metric.capitalize()} is\", len(result))\n"
     ]
    },
    {
     "name": "stdout",
     "output_type": "stream",
     "text": [
      "Probability-based metrics not available for KNN: Number of classes in y_true not equal to the number of columns in 'y_score'\n",
      "KNN -> Accuracy: 0.6151, F1: 0.5831, Precision: 0.5743, Recall: 0.6151, Time: 0.1653s\n",
      "\n",
      "Evaluating Decision Tree...\n",
      "Loaded model from: models_pca/DecisionTree.joblib\n",
      "Loaded label encoder from: models_pca/label_encoder.joblib\n",
      "Probability-based metrics not available for Decision Tree: Number of classes in y_true not equal to the number of columns in 'y_score'\n",
      "Decision Tree -> Accuracy: 0.4126, F1: 0.4122, Precision: 0.4184, Recall: 0.4126, Time: 0.0018s\n",
      "\n",
      "Evaluating AdaBoost...\n",
      "Loaded model from: models_pca/AdaBoost.joblib\n",
      "Loaded label encoder from: models_pca/label_encoder.joblib\n",
      "Probability-based metrics not available for AdaBoost: Number of classes in y_true not equal to the number of columns in 'y_score'\n",
      "AdaBoost -> Accuracy: 0.3612, F1: 0.1937, Precision: 0.1386, Recall: 0.3612, Time: 0.0470s\n",
      "\n",
      "Evaluating Gradient Boosting...\n"
     ]
    },
    {
     "name": "stderr",
     "output_type": "stream",
     "text": [
      "/home/tiago/thesis/venv/lib/python3.12/site-packages/sklearn/metrics/_classification.py:1565: UndefinedMetricWarning: Precision is ill-defined and being set to 0.0 in labels with no predicted samples. Use `zero_division` parameter to control this behavior.\n",
      "  _warn_prf(average, modifier, f\"{metric.capitalize()} is\", len(result))\n",
      "/home/tiago/thesis/venv/lib/python3.12/site-packages/sklearn/metrics/_classification.py:1565: UndefinedMetricWarning: Precision is ill-defined and being set to 0.0 in labels with no predicted samples. Use `zero_division` parameter to control this behavior.\n",
      "  _warn_prf(average, modifier, f\"{metric.capitalize()} is\", len(result))\n",
      "/home/tiago/thesis/venv/lib/python3.12/site-packages/sklearn/metrics/_classification.py:1565: UndefinedMetricWarning: Precision is ill-defined and being set to 0.0 in labels with no predicted samples. Use `zero_division` parameter to control this behavior.\n",
      "  _warn_prf(average, modifier, f\"{metric.capitalize()} is\", len(result))\n"
     ]
    },
    {
     "name": "stdout",
     "output_type": "stream",
     "text": [
      "Loaded model from: models_pca/GBM.joblib\n",
      "Loaded label encoder from: models_pca/label_encoder.joblib\n",
      "Probability-based metrics not available for Gradient Boosting: Number of classes in y_true not equal to the number of columns in 'y_score'\n",
      "Gradient Boosting -> Accuracy: 0.4670, F1: 0.4384, Precision: 0.4314, Recall: 0.4670, Time: 0.0514s\n",
      "\n",
      "Evaluating XGBoost...\n"
     ]
    },
    {
     "name": "stderr",
     "output_type": "stream",
     "text": [
      "/home/tiago/thesis/venv/lib/python3.12/site-packages/sklearn/metrics/_classification.py:1565: UndefinedMetricWarning: Precision is ill-defined and being set to 0.0 in labels with no predicted samples. Use `zero_division` parameter to control this behavior.\n",
      "  _warn_prf(average, modifier, f\"{metric.capitalize()} is\", len(result))\n"
     ]
    },
    {
     "name": "stdout",
     "output_type": "stream",
     "text": [
      "Loaded model from: models_pca/XGBoost.joblib\n",
      "Loaded label encoder from: models_pca/label_encoder.joblib\n",
      "Probability-based metrics not available for XGBoost: Number of classes in y_true not equal to the number of columns in 'y_score'\n",
      "XGBoost -> Accuracy: 0.6025, F1: 0.5556, Precision: 0.5600, Recall: 0.6025, Time: 0.0248s\n",
      "\n",
      "Evaluating SVM...\n",
      "Loaded model from: models_lime/SVM.joblib\n",
      "Loaded label encoder from: models_lime/label_encoder.joblib\n"
     ]
    },
    {
     "name": "stderr",
     "output_type": "stream",
     "text": [
      "/home/tiago/thesis/venv/lib/python3.12/site-packages/sklearn/metrics/_classification.py:1565: UndefinedMetricWarning: Precision is ill-defined and being set to 0.0 in labels with no predicted samples. Use `zero_division` parameter to control this behavior.\n",
      "  _warn_prf(average, modifier, f\"{metric.capitalize()} is\", len(result))\n"
     ]
    },
    {
     "name": "stdout",
     "output_type": "stream",
     "text": [
      "Probability-based metrics not available for SVM: Number of classes in y_true not equal to the number of columns in 'y_score'\n",
      "SVM -> Accuracy: 0.6247, F1: 0.6076, Precision: 0.6079, Recall: 0.6247, Time: 2.9489s\n",
      "\n",
      "Evaluating RBF...\n",
      "Loaded model from: models_lime/RBF.joblib\n",
      "Loaded label encoder from: models_lime/label_encoder.joblib\n"
     ]
    },
    {
     "name": "stderr",
     "output_type": "stream",
     "text": [
      "/home/tiago/thesis/venv/lib/python3.12/site-packages/sklearn/metrics/_classification.py:1565: UndefinedMetricWarning: Precision is ill-defined and being set to 0.0 in labels with no predicted samples. Use `zero_division` parameter to control this behavior.\n",
      "  _warn_prf(average, modifier, f\"{metric.capitalize()} is\", len(result))\n"
     ]
    },
    {
     "name": "stdout",
     "output_type": "stream",
     "text": [
      "Probability-based metrics not available for RBF: Number of classes in y_true not equal to the number of columns in 'y_score'\n",
      "RBF -> Accuracy: 0.6448, F1: 0.5954, Precision: 0.5895, Recall: 0.6448, Time: 5.3370s\n",
      "\n",
      "Evaluating Random Forest...\n",
      "Loaded model from: models_lime/RandomForest.joblib\n",
      "Loaded label encoder from: models_lime/label_encoder.joblib\n"
     ]
    },
    {
     "name": "stderr",
     "output_type": "stream",
     "text": [
      "/home/tiago/thesis/venv/lib/python3.12/site-packages/sklearn/metrics/_classification.py:1565: UndefinedMetricWarning: Precision is ill-defined and being set to 0.0 in labels with no predicted samples. Use `zero_division` parameter to control this behavior.\n",
      "  _warn_prf(average, modifier, f\"{metric.capitalize()} is\", len(result))\n"
     ]
    },
    {
     "name": "stdout",
     "output_type": "stream",
     "text": [
      "Probability-based metrics not available for Random Forest: Number of classes in y_true not equal to the number of columns in 'y_score'\n",
      "Random Forest -> Accuracy: 0.4408, F1: 0.3020, Precision: 0.3116, Recall: 0.4408, Time: 0.0506s\n",
      "\n",
      "Evaluating Naive Bayes...\n",
      "Loaded model from: models_lime/NaiveBayes.joblib\n",
      "Loaded label encoder from: models_lime/label_encoder.joblib\n"
     ]
    },
    {
     "name": "stderr",
     "output_type": "stream",
     "text": [
      "/home/tiago/thesis/venv/lib/python3.12/site-packages/sklearn/metrics/_classification.py:1565: UndefinedMetricWarning: Precision is ill-defined and being set to 0.0 in labels with no predicted samples. Use `zero_division` parameter to control this behavior.\n",
      "  _warn_prf(average, modifier, f\"{metric.capitalize()} is\", len(result))\n"
     ]
    },
    {
     "name": "stdout",
     "output_type": "stream",
     "text": [
      "Probability-based metrics not available for Naive Bayes: Number of classes in y_true not equal to the number of columns in 'y_score'\n",
      "Naive Bayes -> Accuracy: 0.5557, F1: 0.5599, Precision: 0.6004, Recall: 0.5557, Time: 0.1799s\n",
      "\n",
      "Evaluating Logistic Regression...\n",
      "Loaded model from: models_lime/LogisticRegression.joblib\n",
      "Loaded label encoder from: models_lime/label_encoder.joblib\n",
      "Probability-based metrics not available for Logistic Regression: Number of classes in y_true not equal to the number of columns in 'y_score'\n",
      "Logistic Regression -> Accuracy: 0.6176, F1: 0.6066, Precision: 0.6087, Recall: 0.6176, Time: 0.0050s\n",
      "\n",
      "Evaluating LDA...\n",
      "Loaded model from: models_lime/LDA.joblib\n",
      "Loaded label encoder from: models_lime/label_encoder.joblib\n",
      "Probability-based metrics not available for LDA: Number of classes in y_true not equal to the number of columns in 'y_score'\n",
      "LDA -> Accuracy: 0.5889, F1: 0.5863, Precision: 0.6221, Recall: 0.5889, Time: 0.0015s\n",
      "\n",
      "Evaluating KNN...\n",
      "Loaded model from: models_lime/KNN.joblib\n",
      "Loaded label encoder from: models_lime/label_encoder.joblib\n"
     ]
    },
    {
     "name": "stderr",
     "output_type": "stream",
     "text": [
      "/home/tiago/thesis/venv/lib/python3.12/site-packages/sklearn/metrics/_classification.py:1565: UndefinedMetricWarning: Precision is ill-defined and being set to 0.0 in labels with no predicted samples. Use `zero_division` parameter to control this behavior.\n",
      "  _warn_prf(average, modifier, f\"{metric.capitalize()} is\", len(result))\n",
      "/home/tiago/thesis/venv/lib/python3.12/site-packages/sklearn/metrics/_classification.py:1565: UndefinedMetricWarning: Precision is ill-defined and being set to 0.0 in labels with no predicted samples. Use `zero_division` parameter to control this behavior.\n",
      "  _warn_prf(average, modifier, f\"{metric.capitalize()} is\", len(result))\n",
      "/home/tiago/thesis/venv/lib/python3.12/site-packages/sklearn/metrics/_classification.py:1565: UndefinedMetricWarning: Precision is ill-defined and being set to 0.0 in labels with no predicted samples. Use `zero_division` parameter to control this behavior.\n",
      "  _warn_prf(average, modifier, f\"{metric.capitalize()} is\", len(result))\n"
     ]
    },
    {
     "name": "stdout",
     "output_type": "stream",
     "text": [
      "Probability-based metrics not available for KNN: Number of classes in y_true not equal to the number of columns in 'y_score'\n",
      "KNN -> Accuracy: 0.6151, F1: 0.5831, Precision: 0.5743, Recall: 0.6151, Time: 0.1548s\n",
      "\n",
      "Evaluating Decision Tree...\n",
      "Loaded model from: models_lime/DecisionTree.joblib\n",
      "Loaded label encoder from: models_lime/label_encoder.joblib\n",
      "Probability-based metrics not available for Decision Tree: Number of classes in y_true not equal to the number of columns in 'y_score'\n",
      "Decision Tree -> Accuracy: 0.4126, F1: 0.4122, Precision: 0.4184, Recall: 0.4126, Time: 0.0011s\n",
      "\n",
      "Evaluating AdaBoost...\n",
      "Loaded model from: models_lime/AdaBoost.joblib\n",
      "Loaded label encoder from: models_lime/label_encoder.joblib\n",
      "Probability-based metrics not available for AdaBoost: Number of classes in y_true not equal to the number of columns in 'y_score'\n",
      "AdaBoost -> Accuracy: 0.3612, F1: 0.1937, Precision: 0.1386, Recall: 0.3612, Time: 0.0443s\n",
      "\n",
      "Evaluating Gradient Boosting...\n"
     ]
    },
    {
     "name": "stderr",
     "output_type": "stream",
     "text": [
      "/home/tiago/thesis/venv/lib/python3.12/site-packages/sklearn/metrics/_classification.py:1565: UndefinedMetricWarning: Precision is ill-defined and being set to 0.0 in labels with no predicted samples. Use `zero_division` parameter to control this behavior.\n",
      "  _warn_prf(average, modifier, f\"{metric.capitalize()} is\", len(result))\n",
      "/home/tiago/thesis/venv/lib/python3.12/site-packages/sklearn/metrics/_classification.py:1565: UndefinedMetricWarning: Precision is ill-defined and being set to 0.0 in labels with no predicted samples. Use `zero_division` parameter to control this behavior.\n",
      "  _warn_prf(average, modifier, f\"{metric.capitalize()} is\", len(result))\n",
      "/home/tiago/thesis/venv/lib/python3.12/site-packages/sklearn/metrics/_classification.py:1565: UndefinedMetricWarning: Precision is ill-defined and being set to 0.0 in labels with no predicted samples. Use `zero_division` parameter to control this behavior.\n",
      "  _warn_prf(average, modifier, f\"{metric.capitalize()} is\", len(result))\n"
     ]
    },
    {
     "name": "stdout",
     "output_type": "stream",
     "text": [
      "Loaded model from: models_lime/GBM.joblib\n",
      "Loaded label encoder from: models_lime/label_encoder.joblib\n",
      "Probability-based metrics not available for Gradient Boosting: Number of classes in y_true not equal to the number of columns in 'y_score'\n",
      "Gradient Boosting -> Accuracy: 0.4690, F1: 0.4449, Precision: 0.4437, Recall: 0.4690, Time: 0.0504s\n",
      "\n",
      "Evaluating XGBoost...\n",
      "Loaded model from: models_lime/XGBoost.joblib\n",
      "Loaded label encoder from: models_lime/label_encoder.joblib\n",
      "Probability-based metrics not available for XGBoost: Number of classes in y_true not equal to the number of columns in 'y_score'\n",
      "XGBoost -> Accuracy: 0.6025, F1: 0.5556, Precision: 0.5600, Recall: 0.6025, Time: 0.0298s\n"
     ]
    },
    {
     "name": "stderr",
     "output_type": "stream",
     "text": [
      "/home/tiago/thesis/venv/lib/python3.12/site-packages/sklearn/metrics/_classification.py:1565: UndefinedMetricWarning: Precision is ill-defined and being set to 0.0 in labels with no predicted samples. Use `zero_division` parameter to control this behavior.\n",
      "  _warn_prf(average, modifier, f\"{metric.capitalize()} is\", len(result))\n",
      "/home/tiago/thesis/venv/lib/python3.12/site-packages/sklearn/metrics/_classification.py:1565: UndefinedMetricWarning: Precision is ill-defined and being set to 0.0 in labels with no predicted samples. Use `zero_division` parameter to control this behavior.\n",
      "  _warn_prf(average, modifier, f\"{metric.capitalize()} is\", len(result))\n"
     ]
    }
   ],
   "source": [
    "from classifiers import (\n",
    "    SVMClassifier, RBFClassifier, RandomForestClassifier, NaiveBayesClassifier, \n",
    "    LogisticRegressionClassifier, LDAClassifier, KNNClassifier, DecisionTreeClassifier,\n",
    "    AdaBoostClassifier, GBMClassifier, XGBoostClassifier\n",
    ")\n",
    "\n",
    "# Initialize classifiers\n",
    "classifiers = {\n",
    "    \"SVM\": SVMClassifier(),\n",
    "    \"RBF\": RBFClassifier(),\n",
    "    \"Random Forest\": RandomForestClassifier(),\n",
    "    \"Naive Bayes\": NaiveBayesClassifier(),\n",
    "    \"Logistic Regression\": LogisticRegressionClassifier(),\n",
    "    \"LDA\": LDAClassifier(),\n",
    "    \"KNN\": KNNClassifier(),\n",
    "    \"Decision Tree\": DecisionTreeClassifier(),\n",
    "    \"AdaBoost\": AdaBoostClassifier(),\n",
    "    \"Gradient Boosting\": GBMClassifier(),\n",
    "    \"XGBoost\": XGBoostClassifier()\n",
    "}\n",
    "\n",
    "results = {}\n",
    "models = [\"models_pca\", \"models_lime\"]\n",
    "\n",
    "# Iterate over classifiers\n",
    "for model in models:\n",
    "    results[model] = {}\n",
    "    for name, classifier in classifiers.items():\n",
    "        print(f\"\\nEvaluating {name}...\")\n",
    "        try:\n",
    "            classifier.load(model_dir=model)\n",
    "            label_encoder = classifier.label_encoder\n",
    "            all_labels = label_encoder.classes_\n",
    "\n",
    "            # Time classification\n",
    "            start_time = time.time()\n",
    "            y_pred = classifier.classify(X_val_pca)\n",
    "            elapsed_time = time.time() - start_time\n",
    "\n",
    "            # Check if classify_proba is available\n",
    "            if hasattr(classifier, \"classify_proba\"):\n",
    "                try:\n",
    "                    y_proba = classifier.classify_proba(X_val_pca)\n",
    "                    top5_acc = top_k_accuracy_score(y_val, y_proba, k=5, labels=np.arange(1, 91))\n",
    "\n",
    "                    # AUC-ROC computation — assumes multi-class OVR\n",
    "                    auc_roc = roc_auc_score(y_val, y_proba, multi_class='ovr', average='weighted', labels=np.arange(1, 91))\n",
    "                except Exception as e:\n",
    "                    print(f\"Probability-based metrics not available for {name}: {e}\")\n",
    "                    top5_acc = None\n",
    "                    auc_roc = None\n",
    "            else:\n",
    "                top5_acc = None\n",
    "                auc_roc = None\n",
    "\n",
    "            acc = accuracy_score(y_val, y_pred)\n",
    "            recall = recall_score(y_val, y_pred, average='weighted')\n",
    "            f1 = f1_score(y_val, y_pred, average='weighted')\n",
    "            precision = precision_score(y_val, y_pred, average='weighted')  # ← New metric\n",
    "\n",
    "            results[model][name] = {\n",
    "                \"top-5 accuracy\": top5_acc,\n",
    "                \"accuracy\": acc,\n",
    "                \"recall\": recall,\n",
    "                \"precision\": precision,                # ← New metric\n",
    "                \"f1-score\": f1,\n",
    "                \"auc-roc\": auc_roc,                    # ← New metric\n",
    "                \"inference_time_sec\": elapsed_time\n",
    "            }\n",
    "\n",
    "            print(f\"{name} -> Accuracy: {acc:.4f}, F1: {f1:.4f}, Precision: {precision:.4f}, Recall: {recall:.4f}, Time: {elapsed_time:.4f}s\")\n",
    "            if top5_acc is not None:\n",
    "                print(f\"Top-5 Accuracy: {top5_acc:.4f}\")\n",
    "            if auc_roc is not None:\n",
    "                print(f\"AUC-ROC: {auc_roc:.4f}\")\n",
    "\n",
    "        except Exception as e:\n",
    "            print(f\"Failed to evaluate {name}: {e}\")\n",
    "            results[model][name] = {\n",
    "                \"top-5 accuracy\": None,\n",
    "                \"accuracy\": None,\n",
    "                \"recall\": None,\n",
    "                \"precision\": None,\n",
    "                \"f1-score\": None,\n",
    "                \"auc-roc\": None,\n",
    "                \"inference_time_sec\": None,\n",
    "                \"error\": str(e)\n",
    "            }\n",
    "    "
   ]
  },
  {
   "cell_type": "code",
   "execution_count": null,
   "id": "c7082980",
   "metadata": {},
   "outputs": [
    {
     "name": "stdout",
     "output_type": "stream",
     "text": [
      "Results saved to classifier_results_new.json\n"
     ]
    }
   ],
   "source": [
    "with open(\"classifier_results_new.json\", \"w\") as f:\n",
    "    json.dump(results, f, indent=4)\n",
    "\n",
    "print(\"Results saved to classifier_results.json\")"
   ]
  }
 ],
 "metadata": {
  "kernelspec": {
   "display_name": "venv",
   "language": "python",
   "name": "python3"
  },
  "language_info": {
   "codemirror_mode": {
    "name": "ipython",
    "version": 3
   },
   "file_extension": ".py",
   "mimetype": "text/x-python",
   "name": "python",
   "nbconvert_exporter": "python",
   "pygments_lexer": "ipython3",
   "version": "3.12.3"
  }
 },
 "nbformat": 4,
 "nbformat_minor": 5
}
