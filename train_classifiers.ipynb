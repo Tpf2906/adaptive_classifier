{
 "cells": [
  {
   "cell_type": "markdown",
   "id": "6f9d3211",
   "metadata": {},
   "source": [
    "## Train Base Classifiers and save them"
   ]
  },
  {
   "cell_type": "code",
   "execution_count": 1,
   "id": "3ed2fbfe",
   "metadata": {},
   "outputs": [],
   "source": [
    "import torch\n",
    "import matplotlib.pyplot as plt\n",
    "import os\n",
    "from sklearn.metrics import accuracy_score\n",
    "import joblib\n",
    "import sys\n",
    "import numpy as np\n",
    "\n",
    "\n",
    "CLIP_FEATURES_DIR = \"clip_features\"\n",
    "TRAIN = CLIP_FEATURES_DIR + \"/train_features.pt\"\n",
    "VAL = CLIP_FEATURES_DIR + \"/val_features.pt\"\n",
    "SCALER = \"scaler_model.joblib\"\n",
    "PCA = \"pca_model.joblib\""
   ]
  },
  {
   "cell_type": "code",
   "execution_count": 2,
   "id": "d711d31e",
   "metadata": {},
   "outputs": [],
   "source": [
    "def load_features(file_path):\n",
    "    data = torch.load(file_path)\n",
    "    return data[\"image_features\"], data[\"text_features\"], data[\"filenames\"], data[\"labels\"]\n",
    "\n",
    "\n",
    "# Load train and validation features\n",
    "train_img_features, train_txt_features, _, train_labels = load_features(TRAIN)\n",
    "val_img_features, val_txt_features, _, val_labels = load_features(VAL)"
   ]
  },
  {
   "cell_type": "code",
   "execution_count": 3,
   "id": "347194a6",
   "metadata": {},
   "outputs": [
    {
     "name": "stdout",
     "output_type": "stream",
     "text": [
      "X_train shape: (7919, 1024)\n",
      "X_val shape: (1985, 1024)\n",
      "X_train_pca shape: (7919, 563)\n",
      "X_val_pca shape: (1985, 563)\n"
     ]
    }
   ],
   "source": [
    "# Combine image and text features for training\n",
    "X_train = torch.cat((train_img_features, train_txt_features), dim=1)\n",
    "X_val = torch.cat((val_img_features, val_txt_features), dim=1)\n",
    "\n",
    "# Flatten features into a 2D matrix (samples x features)\n",
    "X_train = X_train.view(X_train.size(0), -1).numpy()\n",
    "X_val = X_val.view(X_val.size(0), -1).numpy()\n",
    "\n",
    "print(f\"X_train shape: {X_train.shape}\")\n",
    "print(f\"X_val shape: {X_val.shape}\")\n",
    "\n",
    "# Convert labels to NumPy arrays\n",
    "y_train = train_labels.numpy()\n",
    "y_val = val_labels.numpy()  \n",
    "\n",
    "# Load scaler and PCA models\n",
    "scaler = joblib.load(SCALER)\n",
    "pca = joblib.load(PCA)\n",
    "\n",
    "# Scale and transform the features\n",
    "X_train_scaled = scaler.transform(X_train)\n",
    "X_val_scaled = scaler.transform(X_val)\n",
    "\n",
    "X_train_pca = pca.transform(X_train_scaled)\n",
    "X_val_pca = pca.transform(X_val_scaled)\n",
    "\n",
    "print(f\"X_train_pca shape: {X_train_pca.shape}\")\n",
    "print(f\"X_val_pca shape: {X_val_pca.shape}\")"
   ]
  },
  {
   "cell_type": "code",
   "execution_count": 4,
   "id": "f03534db",
   "metadata": {},
   "outputs": [],
   "source": [
    "from classifiers import (\n",
    "    SVMClassifier, RBFClassifier, RandomForestClassifier, NaiveBayesClassifier, \n",
    "    LogisticRegressionClassifier, LDAClassifier, KNNClassifier, DecisionTreeClassifier,\n",
    "    AdaBoostClassifier, GBMClassifier, XGBoostClassifier\n",
    ")\n",
    "\n",
    "\n",
    "# Initialize classifiers\n",
    "classifiers = {\n",
    "    #\"SVM\": SVMClassifier(),\n",
    "    #\"RBF\": RBFClassifier(),\n",
    "    #\"Random Forest\": RandomForestClassifier(),\n",
    "    #\"Naive Bayes\": NaiveBayesClassifier(),\n",
    "    #\"Logistic Regression\": LogisticRegressionClassifier(),\n",
    "    #\"LDA\": LDAClassifier(),\n",
    "    #\"KNN\": KNNClassifier(),\n",
    "    #\"Decision Tree\": DecisionTreeClassifier(),\n",
    "    #\"AdaBoost\": AdaBoostClassifier(),\n",
    "    #\"Gradient Boosting\": GBMClassifier(),\n",
    "    #\"XGBoost\": XGBoostClassifier()\n",
    "}\n",
    "\n",
    "\n",
    "# Train and evaluate classifiers\n",
    "results = {}\n",
    "for name, clf in classifiers.items():\n",
    "    print(f\"Training {name}...\")\n",
    "    \n",
    "    clf.train(X_train_pca, y_train)\n",
    "        \n",
    "    y_pred = clf.classify(X_val_pca)\n",
    "    print(f\"Evaluating {name}...\")\n",
    "    accuracy = accuracy_score(y_val, y_pred)\n",
    "    results[name] = accuracy\n",
    "    print(f\"{name} Accuracy: {accuracy:.4f}\")\n",
    "    clf.save()"
   ]
  },
  {
   "cell_type": "code",
   "execution_count": 5,
   "id": "ec6d27fd",
   "metadata": {},
   "outputs": [
    {
     "name": "stdout",
     "output_type": "stream",
     "text": [
      "{}\n"
     ]
    }
   ],
   "source": [
    "print(results)"
   ]
  },
  {
   "cell_type": "code",
   "execution_count": 6,
   "id": "0d52e649",
   "metadata": {},
   "outputs": [
    {
     "name": "stdout",
     "output_type": "stream",
     "text": [
      "Model and label encoder loaded from models/XGBoost.joblib and models/XGBoost_label_encoder.joblib\n"
     ]
    }
   ],
   "source": [
    "xgboost = XGBoostClassifier()\n",
    "xgboost.load()\n"
   ]
  },
  {
   "cell_type": "code",
   "execution_count": null,
   "id": "8a4685c5",
   "metadata": {},
   "outputs": [
    {
     "name": "stdout",
     "output_type": "stream",
     "text": [
      "[19]\n",
      "[[1.37813417e-02 1.68876039e-04 1.98507519e-03 5.45410767e-05\n",
      "  1.78898626e-04 9.90929402e-05 4.10387962e-04 2.36996752e-03\n",
      "  5.20726258e-04 1.11654204e-04 5.82432331e-05 0.00000000e+00\n",
      "  3.76737189e-05 4.38489405e-05 3.08587478e-04 4.22183052e-03\n",
      "  3.20587947e-04 1.96695351e-03 9.49150920e-01 3.73513065e-03\n",
      "  2.68940534e-03 1.86889170e-04 5.26587864e-05 1.12512370e-03\n",
      "  1.21912325e-03 0.00000000e+00 1.85816622e-04 3.64679545e-05\n",
      "  0.00000000e+00 0.00000000e+00 3.64352054e-05 1.95080170e-03\n",
      "  1.00423978e-03 3.54179574e-05 2.88212195e-05 5.33743587e-05\n",
      "  9.30780152e-05 6.76573400e-05 0.00000000e+00 4.09994027e-05\n",
      "  1.08820364e-04 2.69440479e-05 3.45385270e-05 5.88757743e-04\n",
      "  0.00000000e+00 1.17469230e-04 6.08132919e-04 9.99079493e-05\n",
      "  9.60601028e-05 6.42508749e-05 7.39157142e-04 8.90914525e-05\n",
      "  3.39540769e-04 3.56997953e-05 1.77484428e-04 5.33718630e-05\n",
      "  1.37861789e-04 2.97704100e-05 1.64585465e-04 1.04013438e-04\n",
      "  5.13016748e-05 1.54246157e-03 3.54006370e-05 1.32902316e-03\n",
      "  1.14995208e-04 0.00000000e+00 3.56207980e-04 0.00000000e+00\n",
      "  0.00000000e+00 6.77284843e-05 0.00000000e+00 3.32083611e-04\n",
      "  1.46844803e-04 6.12038712e-05 5.04156524e-05 3.63807994e-05\n",
      "  3.08640592e-05 2.73066707e-05 3.15757970e-05 3.57042554e-05\n",
      "  2.04966913e-04 3.69417321e-05 0.00000000e+00 3.08517297e-03\n",
      "  6.59679645e-05 1.31276058e-04 9.91980705e-05 1.05144514e-04\n",
      "  2.66807019e-05 4.90806269e-05]]\n"
     ]
    },
    {
     "data": {
      "text/plain": [
       "90"
      ]
     },
     "execution_count": 10,
     "metadata": {},
     "output_type": "execute_result"
    }
   ],
   "source": [
    "# Test the classify method on the first sample of X_val_pca\n",
    "\n",
    "print(xgboost.classify(X_val_pca[1].reshape(1, -1)))\n",
    "\n",
    "res = xgboost.classify_proba(X_val_pca[1].reshape(1, -1))\n",
    "\n",
    "print(res)\n",
    "\n"
   ]
  }
 ],
 "metadata": {
  "kernelspec": {
   "display_name": "venv",
   "language": "python",
   "name": "python3"
  },
  "language_info": {
   "codemirror_mode": {
    "name": "ipython",
    "version": 3
   },
   "file_extension": ".py",
   "mimetype": "text/x-python",
   "name": "python",
   "nbconvert_exporter": "python",
   "pygments_lexer": "ipython3",
   "version": "3.12.3"
  }
 },
 "nbformat": 4,
 "nbformat_minor": 5
}
