{
 "cells": [
  {
   "cell_type": "markdown",
   "id": "6f9d3211",
   "metadata": {},
   "source": [
    "## Train Base Classifiers and save them"
   ]
  },
  {
   "cell_type": "code",
   "execution_count": 1,
   "id": "3ed2fbfe",
   "metadata": {},
   "outputs": [],
   "source": [
    "import torch\n",
    "import matplotlib.pyplot as plt\n",
    "import os\n",
    "from sklearn.metrics import accuracy_score\n",
    "import joblib\n",
    "import sys\n",
    "import numpy as np\n",
    "\n",
    "\n",
    "CLIP_FEATURES_DIR = \"clip_features_new\"\n",
    "TRAIN = CLIP_FEATURES_DIR + \"/train_features.pt\"\n",
    "VAL = CLIP_FEATURES_DIR + \"/val_features.pt\"\n",
    "SCALER = \"scaler_model_new.joblib\"\n",
    "PCA = \"pca_model_new.joblib\"\n",
    "LIME = \"top_k_lime_indices.joblib\"\n",
    "\n",
    "MIN_SAMPLES = 3"
   ]
  },
  {
   "cell_type": "code",
   "execution_count": 2,
   "id": "d711d31e",
   "metadata": {},
   "outputs": [],
   "source": [
    "def load_features(file_path):\n",
    "    data = torch.load(file_path)\n",
    "    return data[\"image_features\"], data[\"text_features\"], data[\"filenames\"], data[\"labels\"]\n",
    "\n",
    "\n",
    "# Load train and validation features\n",
    "train_img_features, train_txt_features, _, train_labels = load_features(TRAIN)\n",
    "val_img_features, val_txt_features, _, val_labels = load_features(VAL)"
   ]
  },
  {
   "cell_type": "code",
   "execution_count": 3,
   "id": "347194a6",
   "metadata": {},
   "outputs": [
    {
     "name": "stdout",
     "output_type": "stream",
     "text": [
      "X_train shape: (23548, 1024)\n",
      "X_val shape: (11708, 1024)\n",
      "X_train_pca shape: (23548, 488)\n",
      "X_val_pca shape: (11708, 488)\n",
      "X_train_lime shape: (23548, 250)\n",
      "X_val_lime shape: (11708, 250)\n"
     ]
    }
   ],
   "source": [
    "# Combine image and text features for training\n",
    "X_train = torch.cat((train_img_features, train_txt_features), dim=1)\n",
    "X_val = torch.cat((val_img_features, val_txt_features), dim=1)\n",
    "\n",
    "# Flatten features into a 2D matrix (samples x features)\n",
    "X_train = X_train.view(X_train.size(0), -1).numpy()\n",
    "X_val = X_val.view(X_val.size(0), -1).numpy()\n",
    "\n",
    "print(f\"X_train shape: {X_train.shape}\")\n",
    "print(f\"X_val shape: {X_val.shape}\")\n",
    "\n",
    "# Convert labels to NumPy arrays\n",
    "y_train = train_labels.numpy()\n",
    "y_val = val_labels.numpy()  \n",
    "\n",
    "# Load scaler and PCA models\n",
    "scaler = joblib.load(SCALER)\n",
    "pca = joblib.load(PCA)\n",
    "lime = joblib.load(LIME)\n",
    "\n",
    "# Scale and transform the features\n",
    "X_train_scaled = scaler.transform(X_train)\n",
    "X_val_scaled = scaler.transform(X_val)\n",
    "\n",
    "X_train_pca = pca.transform(X_train_scaled)\n",
    "X_val_pca = pca.transform(X_val_scaled)\n",
    "\n",
    "X_train_lime = X_train_scaled[:, lime]\n",
    "X_val_lime = X_val_scaled[:, lime]\n",
    "\n",
    "print(f\"X_train_pca shape: {X_train_pca.shape}\")\n",
    "print(f\"X_val_pca shape: {X_val_pca.shape}\")\n",
    "print(f\"X_train_lime shape: {X_train_lime.shape}\")\n",
    "print(f\"X_val_lime shape: {X_val_lime.shape}\")"
   ]
  },
  {
   "cell_type": "code",
   "execution_count": 4,
   "id": "e110693b",
   "metadata": {},
   "outputs": [],
   "source": [
    "unique, counts = np.unique(y_train, return_counts=True)\n",
    "class_counts = dict(zip(unique, counts))\n",
    "\n",
    "# Filter mask for valid classes\n",
    "valid_classes = [cls for cls, count in class_counts.items() if count >= MIN_SAMPLES]\n",
    "\n",
    "# Create mask for training examples with valid classes\n",
    "mask = np.isin(y_train, valid_classes)\n",
    "\n",
    "# Filter data\n",
    "X_train_pca = X_train_pca[mask]\n",
    "X_train_lime = X_train_lime[mask]\n",
    "\n",
    "y_train = y_train[mask]"
   ]
  },
  {
   "cell_type": "code",
   "execution_count": 5,
   "id": "bea83c71",
   "metadata": {},
   "outputs": [
    {
     "name": "stdout",
     "output_type": "stream",
     "text": [
      "80\n"
     ]
    }
   ],
   "source": [
    "print(len(valid_classes))"
   ]
  },
  {
   "cell_type": "code",
   "execution_count": 6,
   "id": "f03534db",
   "metadata": {},
   "outputs": [
    {
     "name": "stdout",
     "output_type": "stream",
     "text": [
      "Training SVM...\n",
      "Evaluating SVM...\n",
      "SVM Accuracy: 0.3143\n",
      "Model saved to: models_pca_cal_sig_new/SVM.joblib\n",
      "Label encoder saved to: models_pca_cal_sig_new/label_encoder.joblib\n",
      "Training RBF...\n",
      "Evaluating RBF...\n",
      "RBF Accuracy: 0.3170\n",
      "Model saved to: models_pca_cal_sig_new/RBF.joblib\n",
      "Label encoder saved to: models_pca_cal_sig_new/label_encoder.joblib\n",
      "Training Random Forest...\n",
      "Evaluating Random Forest...\n",
      "Random Forest Accuracy: 0.3036\n",
      "Model saved to: models_pca_cal_sig_new/RandomForest.joblib\n",
      "Label encoder saved to: models_pca_cal_sig_new/label_encoder.joblib\n",
      "Training Naive Bayes...\n",
      "Evaluating Naive Bayes...\n",
      "Naive Bayes Accuracy: 0.3083\n",
      "Model saved to: models_pca_cal_sig_new/NaiveBayes.joblib\n",
      "Label encoder saved to: models_pca_cal_sig_new/label_encoder.joblib\n",
      "Training Logistic Regression...\n",
      "Evaluating Logistic Regression...\n",
      "Logistic Regression Accuracy: 0.2748\n",
      "Model saved to: models_pca_cal_sig_new/LogisticRegression.joblib\n",
      "Label encoder saved to: models_pca_cal_sig_new/label_encoder.joblib\n",
      "Training LDA...\n",
      "Evaluating LDA...\n",
      "LDA Accuracy: 0.3232\n",
      "Model saved to: models_pca_cal_sig_new/LDA.joblib\n",
      "Label encoder saved to: models_pca_cal_sig_new/label_encoder.joblib\n",
      "Training KNN...\n",
      "Evaluating KNN...\n",
      "KNN Accuracy: 0.3051\n",
      "Model saved to: models_pca_cal_sig_new/KNN.joblib\n",
      "Label encoder saved to: models_pca_cal_sig_new/label_encoder.joblib\n",
      "Training Decision Tree...\n",
      "Evaluating Decision Tree...\n",
      "Decision Tree Accuracy: 0.2373\n",
      "Model saved to: models_pca_cal_sig_new/DecisionTree.joblib\n",
      "Label encoder saved to: models_pca_cal_sig_new/label_encoder.joblib\n",
      "Training AdaBoost...\n",
      "Evaluating AdaBoost...\n",
      "AdaBoost Accuracy: 0.2026\n",
      "Model saved to: models_pca_cal_sig_new/AdaBoost.joblib\n",
      "Label encoder saved to: models_pca_cal_sig_new/label_encoder.joblib\n",
      "Training Gradient Boosting...\n",
      "Evaluating Gradient Boosting...\n",
      "Gradient Boosting Accuracy: 0.2004\n",
      "Model saved to: models_pca_cal_sig_new/GBM.joblib\n",
      "Label encoder saved to: models_pca_cal_sig_new/label_encoder.joblib\n",
      "Training XGBoost...\n"
     ]
    },
    {
     "name": "stderr",
     "output_type": "stream",
     "text": [
      "/home/tiago/thesis/venv/lib/python3.12/site-packages/xgboost/training.py:183: UserWarning: [17:31:46] WARNING: /workspace/src/learner.cc:738: \n",
      "Parameters: { \"use_label_encoder\" } are not used.\n",
      "\n",
      "  bst.update(dtrain, iteration=i, fobj=obj)\n",
      "/home/tiago/thesis/venv/lib/python3.12/site-packages/xgboost/training.py:183: UserWarning: [17:38:54] WARNING: /workspace/src/learner.cc:738: \n",
      "Parameters: { \"use_label_encoder\" } are not used.\n",
      "\n",
      "  bst.update(dtrain, iteration=i, fobj=obj)\n",
      "/home/tiago/thesis/venv/lib/python3.12/site-packages/xgboost/training.py:183: UserWarning: [17:42:12] WARNING: /workspace/src/learner.cc:738: \n",
      "Parameters: { \"use_label_encoder\" } are not used.\n",
      "\n",
      "  bst.update(dtrain, iteration=i, fobj=obj)\n"
     ]
    },
    {
     "name": "stdout",
     "output_type": "stream",
     "text": [
      "Evaluating XGBoost...\n",
      "XGBoost Accuracy: 0.3098\n",
      "Model saved to: models_pca_cal_sig_new/XGBoost.joblib\n",
      "Label encoder saved to: models_pca_cal_sig_new/label_encoder.joblib\n"
     ]
    }
   ],
   "source": [
    "from classifiers import (\n",
    "    SVMClassifier, RBFClassifier, RandomForestClassifier, NaiveBayesClassifier, \n",
    "    LogisticRegressionClassifier, LDAClassifier, KNNClassifier, DecisionTreeClassifier,\n",
    "    AdaBoostClassifier, GBMClassifier, XGBoostClassifier\n",
    ")\n",
    "\n",
    "\n",
    "# Initialize classifiers\n",
    "classifiers = {\n",
    "    \"SVM\": SVMClassifier(),\n",
    "    \"RBF\": RBFClassifier(),\n",
    "    \"Random Forest\": RandomForestClassifier(),\n",
    "    \"Naive Bayes\": NaiveBayesClassifier(),\n",
    "    \"Logistic Regression\": LogisticRegressionClassifier(),\n",
    "    \"LDA\": LDAClassifier(),\n",
    "    \"KNN\": KNNClassifier(),\n",
    "    \"Decision Tree\": DecisionTreeClassifier(),\n",
    "    \"AdaBoost\": AdaBoostClassifier(),\n",
    "    \"Gradient Boosting\": GBMClassifier(),\n",
    "    \"XGBoost\": XGBoostClassifier()\n",
    "}\n",
    "\n",
    "\n",
    "# Train and evaluate classifiers\n",
    "results = {}\n",
    "for name, clf in classifiers.items():\n",
    "    print(f\"Training {name}...\")\n",
    "    \n",
    "    clf.train(X_train_pca, y_train)\n",
    "        \n",
    "    y_pred = clf.classify(X_val_pca)\n",
    "    print(f\"Evaluating {name}...\")\n",
    "    accuracy = accuracy_score(y_val, y_pred)\n",
    "    results[name] = accuracy\n",
    "    print(f\"{name} Accuracy: {accuracy:.4f}\")\n",
    "    clf.save(model_dir=\"models_pca_cal_sig_new\")"
   ]
  },
  {
   "cell_type": "code",
   "execution_count": 7,
   "id": "ec6d27fd",
   "metadata": {},
   "outputs": [
    {
     "name": "stdout",
     "output_type": "stream",
     "text": [
      "{'SVM': 0.3143149982917663, 'RBF': 0.31704817218995557, 'Random Forest': 0.3036385377519645, 'Naive Bayes': 0.3082507687051589, 'Logistic Regression': 0.2747693884523403, 'LDA': 0.32319781346088144, 'KNN': 0.30509053638537753, 'Decision Tree': 0.2372736590365562, 'AdaBoost': 0.20259651520327981, 'Gradient Boosting': 0.20037581141100103, 'XGBoost': 0.30978817902289035}\n"
     ]
    }
   ],
   "source": [
    "print(results)"
   ]
  },
  {
   "cell_type": "code",
   "execution_count": 8,
   "id": "0d52e649",
   "metadata": {},
   "outputs": [
    {
     "name": "stdout",
     "output_type": "stream",
     "text": [
      "Loaded model from: models_lime_cal/SVM.joblib\n",
      "Loaded label encoder from: models_lime_cal/label_encoder.joblib\n"
     ]
    }
   ],
   "source": [
    "svm = SVMClassifier()\n",
    "svm.load(model_dir=\"models_lime_cal\")\n"
   ]
  },
  {
   "cell_type": "code",
   "execution_count": 9,
   "id": "8a4685c5",
   "metadata": {},
   "outputs": [
    {
     "name": "stdout",
     "output_type": "stream",
     "text": [
      "[56]\n",
      "[55]\n",
      "[[1.32778957e-02 0.00000000e+00 0.00000000e+00 0.00000000e+00\n",
      "  0.00000000e+00 0.00000000e+00 0.00000000e+00 0.00000000e+00\n",
      "  0.00000000e+00 0.00000000e+00 0.00000000e+00 0.00000000e+00\n",
      "  0.00000000e+00 0.00000000e+00 4.34440149e-04 1.84140776e-03\n",
      "  3.31307334e-04 0.00000000e+00 0.00000000e+00 0.00000000e+00\n",
      "  0.00000000e+00 0.00000000e+00 0.00000000e+00 0.00000000e+00\n",
      "  0.00000000e+00 0.00000000e+00 1.84092580e-04 0.00000000e+00\n",
      "  0.00000000e+00 0.00000000e+00 0.00000000e+00 0.00000000e+00\n",
      "  0.00000000e+00 0.00000000e+00 0.00000000e+00 0.00000000e+00\n",
      "  0.00000000e+00 2.31898676e-04 0.00000000e+00 2.41757061e-04\n",
      "  0.00000000e+00 0.00000000e+00 0.00000000e+00 1.02258620e-02\n",
      "  0.00000000e+00 4.93778696e-03 2.27655886e-02 5.43810693e-02\n",
      "  9.01563267e-03 9.96506192e-03 7.16584686e-02 7.18028745e-04\n",
      "  5.56139165e-03 4.55012527e-03 1.23169402e-03 3.64412632e-01\n",
      "  2.13124243e-01 0.00000000e+00 1.88541679e-02 7.35137062e-04\n",
      "  9.64770472e-03 4.53648166e-04 3.15951256e-04 0.00000000e+00\n",
      "  0.00000000e+00 0.00000000e+00 1.76528770e-01 0.00000000e+00\n",
      "  0.00000000e+00 0.00000000e+00 0.00000000e+00 1.90410009e-04\n",
      "  2.70772642e-04 4.95465077e-04 7.00393150e-04 0.00000000e+00\n",
      "  0.00000000e+00 0.00000000e+00 0.00000000e+00 0.00000000e+00\n",
      "  3.43024031e-04 5.08127433e-04 0.00000000e+00 6.10598785e-04\n",
      "  6.08822756e-04 6.46622571e-04 0.00000000e+00 0.00000000e+00\n",
      "  0.00000000e+00 0.00000000e+00]]\n",
      "90\n"
     ]
    }
   ],
   "source": [
    "# Test the classify method on the first sample of X_val_pca\n",
    "\n",
    "\n",
    "print(svm.classify(X_val_lime[1].reshape(1, -1)))\n",
    "\n",
    "res = svm.classify_proba(X_val_lime[1].reshape(1, -1))\n",
    "\n",
    "print(np.argmax(res, axis=1))\n",
    "print(res)\n",
    "print(len(res[0]))\n",
    "\n"
   ]
  }
 ],
 "metadata": {
  "kernelspec": {
   "display_name": "venv",
   "language": "python",
   "name": "python3"
  },
  "language_info": {
   "codemirror_mode": {
    "name": "ipython",
    "version": 3
   },
   "file_extension": ".py",
   "mimetype": "text/x-python",
   "name": "python",
   "nbconvert_exporter": "python",
   "pygments_lexer": "ipython3",
   "version": "3.12.3"
  }
 },
 "nbformat": 4,
 "nbformat_minor": 5
}
