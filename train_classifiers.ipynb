{
 "cells": [
  {
   "cell_type": "markdown",
   "id": "6f9d3211",
   "metadata": {},
   "source": [
    "## Train Base Classifiers and save them"
   ]
  },
  {
   "cell_type": "code",
   "execution_count": 1,
   "id": "3ed2fbfe",
   "metadata": {},
   "outputs": [],
   "source": [
    "import torch\n",
    "import matplotlib.pyplot as plt\n",
    "import os\n",
    "from sklearn.metrics import accuracy_score\n",
    "import joblib\n",
    "import sys\n",
    "import numpy as np\n",
    "\n",
    "\n",
    "CLIP_FEATURES_DIR = \"clip_features\"\n",
    "TRAIN = CLIP_FEATURES_DIR + \"/train_features.pt\"\n",
    "VAL = CLIP_FEATURES_DIR + \"/val_features.pt\"\n",
    "SCALER = \"scaler_model.joblib\"\n",
    "PCA = \"pca_model.joblib\"\n",
    "LIME = \"top_k_lime_indices.joblib\""
   ]
  },
  {
   "cell_type": "code",
   "execution_count": 2,
   "id": "d711d31e",
   "metadata": {},
   "outputs": [],
   "source": [
    "def load_features(file_path):\n",
    "    data = torch.load(file_path)\n",
    "    return data[\"image_features\"], data[\"text_features\"], data[\"filenames\"], data[\"labels\"]\n",
    "\n",
    "\n",
    "# Load train and validation features\n",
    "train_img_features, train_txt_features, _, train_labels = load_features(TRAIN)\n",
    "val_img_features, val_txt_features, _, val_labels = load_features(VAL)"
   ]
  },
  {
   "cell_type": "code",
   "execution_count": 3,
   "id": "347194a6",
   "metadata": {},
   "outputs": [
    {
     "name": "stdout",
     "output_type": "stream",
     "text": [
      "X_train shape: (7919, 1024)\n",
      "X_val shape: (1985, 1024)\n",
      "X_train_pca shape: (7919, 563)\n",
      "X_val_pca shape: (1985, 563)\n",
      "X_train_lime shape: (7919, 250)\n",
      "X_val_lime shape: (1985, 250)\n"
     ]
    }
   ],
   "source": [
    "# Combine image and text features for training\n",
    "X_train = torch.cat((train_img_features, train_txt_features), dim=1)\n",
    "X_val = torch.cat((val_img_features, val_txt_features), dim=1)\n",
    "\n",
    "# Flatten features into a 2D matrix (samples x features)\n",
    "X_train = X_train.view(X_train.size(0), -1).numpy()\n",
    "X_val = X_val.view(X_val.size(0), -1).numpy()\n",
    "\n",
    "print(f\"X_train shape: {X_train.shape}\")\n",
    "print(f\"X_val shape: {X_val.shape}\")\n",
    "\n",
    "# Convert labels to NumPy arrays\n",
    "y_train = train_labels.numpy()\n",
    "y_val = val_labels.numpy()  \n",
    "\n",
    "# Load scaler and PCA models\n",
    "scaler = joblib.load(SCALER)\n",
    "pca = joblib.load(PCA)\n",
    "lime = joblib.load(LIME)\n",
    "\n",
    "# Scale and transform the features\n",
    "X_train_scaled = scaler.transform(X_train)\n",
    "X_val_scaled = scaler.transform(X_val)\n",
    "\n",
    "X_train_pca = pca.transform(X_train_scaled)\n",
    "X_val_pca = pca.transform(X_val_scaled)\n",
    "\n",
    "X_train_lime = X_train_scaled[:, lime]\n",
    "X_val_lime = X_val_scaled[:, lime]\n",
    "\n",
    "print(f\"X_train_pca shape: {X_train_pca.shape}\")\n",
    "print(f\"X_val_pca shape: {X_val_pca.shape}\")\n",
    "print(f\"X_train_lime shape: {X_train_lime.shape}\")\n",
    "print(f\"X_val_lime shape: {X_val_lime.shape}\")"
   ]
  },
  {
   "cell_type": "code",
   "execution_count": 4,
   "id": "f03534db",
   "metadata": {},
   "outputs": [
    {
     "name": "stdout",
     "output_type": "stream",
     "text": [
      "Training SVM...\n",
      "Evaluating SVM...\n",
      "SVM Accuracy: 0.6247\n",
      "Model saved to: models_lime/SVM.joblib\n",
      "Label encoder saved to: models_lime/label_encoder.joblib\n",
      "Training RBF...\n",
      "Evaluating RBF...\n",
      "RBF Accuracy: 0.6448\n",
      "Model saved to: models_lime/RBF.joblib\n",
      "Label encoder saved to: models_lime/label_encoder.joblib\n",
      "Training Random Forest...\n",
      "Evaluating Random Forest...\n",
      "Random Forest Accuracy: 0.4408\n",
      "Model saved to: models_lime/RandomForest.joblib\n",
      "Label encoder saved to: models_lime/label_encoder.joblib\n",
      "Training Naive Bayes...\n",
      "Evaluating Naive Bayes...\n",
      "Naive Bayes Accuracy: 0.5557\n",
      "Model saved to: models_lime/NaiveBayes.joblib\n",
      "Label encoder saved to: models_lime/label_encoder.joblib\n",
      "Training Logistic Regression...\n",
      "Evaluating Logistic Regression...\n",
      "Logistic Regression Accuracy: 0.6176\n",
      "Model saved to: models_lime/LogisticRegression.joblib\n",
      "Label encoder saved to: models_lime/label_encoder.joblib\n",
      "Training LDA...\n",
      "Evaluating LDA...\n",
      "LDA Accuracy: 0.5889\n",
      "Model saved to: models_lime/LDA.joblib\n",
      "Label encoder saved to: models_lime/label_encoder.joblib\n",
      "Training KNN...\n",
      "Evaluating KNN...\n",
      "KNN Accuracy: 0.6151\n",
      "Model saved to: models_lime/KNN.joblib\n",
      "Label encoder saved to: models_lime/label_encoder.joblib\n",
      "Training Decision Tree...\n",
      "Evaluating Decision Tree...\n",
      "Decision Tree Accuracy: 0.4126\n",
      "Model saved to: models_lime/DecisionTree.joblib\n",
      "Label encoder saved to: models_lime/label_encoder.joblib\n",
      "Training AdaBoost...\n",
      "Evaluating AdaBoost...\n",
      "AdaBoost Accuracy: 0.3612\n",
      "Model saved to: models_lime/AdaBoost.joblib\n",
      "Label encoder saved to: models_lime/label_encoder.joblib\n",
      "Training Gradient Boosting...\n",
      "Evaluating Gradient Boosting...\n",
      "Gradient Boosting Accuracy: 0.4690\n",
      "Model saved to: models_lime/GBM.joblib\n",
      "Label encoder saved to: models_lime/label_encoder.joblib\n",
      "Training XGBoost...\n"
     ]
    },
    {
     "name": "stderr",
     "output_type": "stream",
     "text": [
      "/home/tiago/thesis/venv/lib/python3.12/site-packages/xgboost/training.py:183: UserWarning: [11:32:23] WARNING: /workspace/src/learner.cc:738: \n",
      "Parameters: { \"use_label_encoder\" } are not used.\n",
      "\n",
      "  bst.update(dtrain, iteration=i, fobj=obj)\n"
     ]
    },
    {
     "name": "stdout",
     "output_type": "stream",
     "text": [
      "Evaluating XGBoost...\n",
      "XGBoost Accuracy: 0.6025\n",
      "Model saved to: models_lime/XGBoost.joblib\n",
      "Label encoder saved to: models_lime/label_encoder.joblib\n"
     ]
    }
   ],
   "source": [
    "from classifiers import (\n",
    "    SVMClassifier, RBFClassifier, RandomForestClassifier, NaiveBayesClassifier, \n",
    "    LogisticRegressionClassifier, LDAClassifier, KNNClassifier, DecisionTreeClassifier,\n",
    "    AdaBoostClassifier, GBMClassifier, XGBoostClassifier\n",
    ")\n",
    "\n",
    "\n",
    "# Initialize classifiers\n",
    "classifiers = {\n",
    "    \"SVM\": SVMClassifier(),\n",
    "    \"RBF\": RBFClassifier(),\n",
    "    \"Random Forest\": RandomForestClassifier(),\n",
    "    \"Naive Bayes\": NaiveBayesClassifier(),\n",
    "    \"Logistic Regression\": LogisticRegressionClassifier(),\n",
    "    \"LDA\": LDAClassifier(),\n",
    "    \"KNN\": KNNClassifier(),\n",
    "    \"Decision Tree\": DecisionTreeClassifier(),\n",
    "    \"AdaBoost\": AdaBoostClassifier(),\n",
    "    \"Gradient Boosting\": GBMClassifier(),\n",
    "    \"XGBoost\": XGBoostClassifier()\n",
    "}\n",
    "\n",
    "\n",
    "# Train and evaluate classifiers\n",
    "results = {}\n",
    "for name, clf in classifiers.items():\n",
    "    print(f\"Training {name}...\")\n",
    "    \n",
    "    clf.train(X_train_pca, y_train)\n",
    "        \n",
    "    y_pred = clf.classify(X_val_pca)\n",
    "    print(f\"Evaluating {name}...\")\n",
    "    accuracy = accuracy_score(y_val, y_pred)\n",
    "    results[name] = accuracy\n",
    "    print(f\"{name} Accuracy: {accuracy:.4f}\")\n",
    "    clf.save(model_dir=\"models_lime\")"
   ]
  },
  {
   "cell_type": "code",
   "execution_count": 5,
   "id": "ec6d27fd",
   "metadata": {},
   "outputs": [
    {
     "name": "stdout",
     "output_type": "stream",
     "text": [
      "{'SVM': 0.6246851385390428, 'RBF': 0.6448362720403022, 'Random Forest': 0.44080604534005036, 'Naive Bayes': 0.5556675062972293, 'Logistic Regression': 0.617632241813602, 'LDA': 0.5889168765743074, 'KNN': 0.6151133501259446, 'Decision Tree': 0.4125944584382871, 'AdaBoost': 0.3612090680100756, 'Gradient Boosting': 0.46700251889168765, 'XGBoost': 0.6025188916876574}\n"
     ]
    }
   ],
   "source": [
    "print(results)"
   ]
  },
  {
   "cell_type": "code",
   "execution_count": 6,
   "id": "0d52e649",
   "metadata": {},
   "outputs": [
    {
     "name": "stdout",
     "output_type": "stream",
     "text": [
      "Loaded model from: models_pca/SVM.joblib\n",
      "Loaded label encoder from: models_pca/label_encoder.joblib\n"
     ]
    }
   ],
   "source": [
    "svm = SVMClassifier()\n",
    "svm.load()\n"
   ]
  },
  {
   "cell_type": "code",
   "execution_count": 7,
   "id": "8a4685c5",
   "metadata": {},
   "outputs": [
    {
     "name": "stdout",
     "output_type": "stream",
     "text": [
      "[19]\n",
      "[[2.32076981e-02 1.34611236e-03 1.25901714e-02 5.85654567e-04\n",
      "  4.07275092e-04 4.25146018e-04 1.39466697e-03 2.53670457e-02\n",
      "  2.54614091e-03 1.30538139e-03 2.01477715e-03 0.00000000e+00\n",
      "  4.57641803e-04 5.06560856e-04 1.97880845e-03 1.19586955e-02\n",
      "  1.19021863e-03 3.73154936e-03 8.41261570e-01 1.05893384e-02\n",
      "  6.45910371e-03 7.33609861e-04 1.09882234e-03 1.56283540e-03\n",
      "  2.27052902e-03 0.00000000e+00 1.08528036e-03 8.20296490e-04\n",
      "  0.00000000e+00 0.00000000e+00 6.63490490e-04 3.64371662e-03\n",
      "  1.14689461e-03 1.03207469e-03 8.08518500e-04 2.81255769e-04\n",
      "  8.56127698e-04 6.63258062e-04 0.00000000e+00 1.29452462e-03\n",
      "  2.50078180e-04 3.10780820e-04 3.46581456e-04 1.41727148e-03\n",
      "  0.00000000e+00 6.36439110e-04 1.29948245e-03 5.62925294e-04\n",
      "  3.89759845e-04 5.56517860e-04 1.10346011e-03 1.10908070e-03\n",
      "  1.72348807e-03 2.74565925e-04 4.98832954e-04 3.25320580e-04\n",
      "  1.05945529e-03 2.94146263e-04 2.10355062e-04 3.50596755e-04\n",
      "  3.57241552e-04 1.51403936e-03 1.15708915e-03 3.03519275e-03\n",
      "  7.13112101e-04 0.00000000e+00 1.07339352e-03 0.00000000e+00\n",
      "  0.00000000e+00 3.14390769e-04 0.00000000e+00 2.79207820e-03\n",
      "  5.10624670e-04 3.79061861e-04 3.91866446e-04 2.99504025e-04\n",
      "  7.37361555e-04 2.60080526e-04 3.17005052e-04 3.55429162e-04\n",
      "  8.04003452e-04 3.85274688e-04 0.00000000e+00 1.16782824e-03\n",
      "  7.64499857e-04 8.79314075e-04 6.96528464e-04 4.88947658e-04\n",
      "  2.33395070e-04 3.68808333e-04]]\n",
      "90\n"
     ]
    }
   ],
   "source": [
    "# Test the classify method on the first sample of X_val_pca\n",
    "\n",
    "\n",
    "print(svm.classify(X_val_pca[1].reshape(1, -1)))\n",
    "\n",
    "res = svm.classify_proba(X_val_pca[1].reshape(1, -1))\n",
    "\n",
    "print(res)\n",
    "print(len(res[0]))\n",
    "\n"
   ]
  }
 ],
 "metadata": {
  "kernelspec": {
   "display_name": "venv",
   "language": "python",
   "name": "python3"
  },
  "language_info": {
   "codemirror_mode": {
    "name": "ipython",
    "version": 3
   },
   "file_extension": ".py",
   "mimetype": "text/x-python",
   "name": "python",
   "nbconvert_exporter": "python",
   "pygments_lexer": "ipython3",
   "version": "3.12.3"
  }
 },
 "nbformat": 4,
 "nbformat_minor": 5
}
