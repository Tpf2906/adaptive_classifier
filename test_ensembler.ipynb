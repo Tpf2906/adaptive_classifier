{
 "cells": [
  {
   "cell_type": "code",
   "execution_count": 6,
   "id": "5829ce21",
   "metadata": {},
   "outputs": [],
   "source": [
    "import torch\n",
    "import matplotlib.pyplot as plt\n",
    "import os\n",
    "from sklearn.metrics import accuracy_score\n",
    "import joblib\n",
    "import sys\n",
    "import numpy as np\n",
    "import json\n",
    "import time\n",
    "from sklearn.metrics import (\n",
    "    accuracy_score, recall_score, f1_score, precision_score, roc_auc_score,\n",
    "    top_k_accuracy_score\n",
    ")\n",
    "\n",
    "\n",
    "CLIP_FEATURES_DIR = \"clip_features\"\n",
    "VAL = CLIP_FEATURES_DIR + \"/val_features.pt\"\n",
    "SCALER = \"scaler_model.joblib\"\n",
    "PCA = \"pca_model.joblib\"\n",
    "LIME = \"top_k_lime_indices.joblib\""
   ]
  },
  {
   "cell_type": "code",
   "execution_count": 7,
   "id": "1bbe21a2",
   "metadata": {},
   "outputs": [],
   "source": [
    "def load_features(file_path):\n",
    "    data = torch.load(file_path)\n",
    "    return data[\"image_features\"], data[\"text_features\"], data[\"filenames\"], data[\"labels\"]\n",
    "\n",
    "\n",
    "# Load train and validation features\n",
    "val_img_features, val_txt_features, _, val_labels = load_features(VAL)"
   ]
  },
  {
   "cell_type": "code",
   "execution_count": 8,
   "id": "7a390434",
   "metadata": {},
   "outputs": [
    {
     "name": "stdout",
     "output_type": "stream",
     "text": [
      "X_val shape: (1985, 1024)\n"
     ]
    }
   ],
   "source": [
    "# Combine image and text features for training\n",
    "X_val = torch.cat((val_img_features, val_txt_features), dim=1)\n",
    "\n",
    "# Flatten features into a 2D matrix (samples x features)\n",
    "X_val = X_val.view(X_val.size(0), -1).numpy()\n",
    "\n",
    "# Print the shape of the features\n",
    "print(f\"X_val shape: {X_val.shape}\")\n",
    "\n",
    "# Convert labels to NumPy arrays\n",
    "y_val = val_labels.numpy()  \n",
    "\n",
    "# Load scaler and PCA models\n",
    "scaler = joblib.load(SCALER)\n",
    "pca = joblib.load(PCA)\n",
    "lime = joblib.load(LIME)\n",
    "\n",
    "# Scale and transform the features\n",
    "X_val_scaled = scaler.transform(X_val)\n",
    "X_val_pca = pca.transform(X_val_scaled)\n",
    "X_val_lime = X_val_scaled[:, lime]"
   ]
  },
  {
   "cell_type": "code",
   "execution_count": 9,
   "id": "1bf97dd2",
   "metadata": {},
   "outputs": [
    {
     "name": "stdout",
     "output_type": "stream",
     "text": [
      "Loaded model from: models_pca_cal/SVM.joblib\n",
      "Loaded label encoder from: models_pca_cal/label_encoder.joblib\n",
      "Loaded model from: models_pca_cal/RBF.joblib\n",
      "Loaded label encoder from: models_pca_cal/label_encoder.joblib\n",
      "Loaded model from: models_pca_cal/RandomForest.joblib\n",
      "Loaded label encoder from: models_pca_cal/label_encoder.joblib\n",
      "Loaded model from: models_pca_cal/NaiveBayes.joblib\n",
      "Loaded label encoder from: models_pca_cal/label_encoder.joblib\n",
      "Loaded model from: models_pca_cal/LogisticRegression.joblib\n",
      "Loaded label encoder from: models_pca_cal/label_encoder.joblib\n",
      "Loaded model from: models_pca_cal/LDA.joblib\n",
      "Loaded label encoder from: models_pca_cal/label_encoder.joblib\n",
      "Loaded model from: models_pca_cal/KNN.joblib\n",
      "Loaded label encoder from: models_pca_cal/label_encoder.joblib\n",
      "Loaded model from: models_pca_cal/DecisionTree.joblib\n",
      "Loaded label encoder from: models_pca_cal/label_encoder.joblib\n",
      "Loaded model from: models_pca_cal/AdaBoost.joblib\n",
      "Loaded label encoder from: models_pca_cal/label_encoder.joblib\n",
      "Loaded model from: models_pca_cal/GBM.joblib\n",
      "Loaded label encoder from: models_pca_cal/label_encoder.joblib\n",
      "Loaded model from: models_pca_cal/XGBoost.joblib\n",
      "Loaded label encoder from: models_pca_cal/label_encoder.joblib\n"
     ]
    }
   ],
   "source": [
    "from classifiers import (\n",
    "    SVMClassifier, RBFClassifier, RandomForestClassifier, NaiveBayesClassifier, \n",
    "    LogisticRegressionClassifier, LDAClassifier, KNNClassifier, DecisionTreeClassifier,\n",
    "    AdaBoostClassifier, GBMClassifier, XGBoostClassifier\n",
    ")\n",
    "\n",
    "from ensembler import EnsemblerClassifier\n",
    "\n",
    "# Instantiate classifiers\n",
    "classifiers = [\n",
    "    SVMClassifier(), RBFClassifier(), RandomForestClassifier(), NaiveBayesClassifier(),\n",
    "    LogisticRegressionClassifier(), LDAClassifier(), KNNClassifier(),\n",
    "    DecisionTreeClassifier(), AdaBoostClassifier(), GBMClassifier(),\n",
    "    XGBoostClassifier()\n",
    "]\n",
    "\n",
    "# Define weights\n",
    "weights = [0.2, 0.0, 0.1, 0.05, 0.1, 0.05, 0.05, 0.1, 0.1, 0.2, 0.05]\n",
    "\n",
    "# Load models\n",
    "for clf in classifiers:\n",
    "    clf.load(model_dir=\"models_pca_cal\")\n",
    "\n",
    "# Build ensemble input as (classifier, weight) pairs\n",
    "classifier_weight_pairs = list(zip(classifiers, weights))\n",
    "\n",
    "# Initialize ensemble\n",
    "ensemble = EnsemblerClassifier(classifier_weight_pairs)\n",
    "\n",
    "\n",
    "\n"
   ]
  },
  {
   "cell_type": "code",
   "execution_count": 10,
   "id": "0b9b9d69",
   "metadata": {},
   "outputs": [
    {
     "name": "stdout",
     "output_type": "stream",
     "text": [
      "Predicted class: [[7.40883565e-02 2.23999697e-03 8.79527075e-03 1.57509605e-03\n",
      "  1.22521716e-03 9.62014890e-04 1.67405965e-03 3.11589716e-03\n",
      "  2.42711439e-03 2.16091279e-03 1.54018904e-03 0.00000000e+00\n",
      "  1.49867319e-03 7.61401268e-04 2.29724041e-03 6.00492523e-03\n",
      "  2.23230355e-03 3.74858889e-03 1.76457198e-03 8.23260530e-04\n",
      "  8.17486921e-04 3.88824037e-04 1.07736010e-03 7.25898047e-04\n",
      "  5.70689127e-04 0.00000000e+00 1.53197416e-03 1.25823152e-03\n",
      "  0.00000000e+00 0.00000000e+00 1.10902794e-03 5.91485170e-03\n",
      "  2.98047198e-03 6.24343286e-04 2.86970665e-04 5.42149989e-04\n",
      "  1.10656359e-03 1.08614381e-03 0.00000000e+00 2.08343532e-03\n",
      "  1.13289140e-03 1.06404846e-03 0.00000000e+00 1.95576777e-02\n",
      "  0.00000000e+00 3.49573848e-03 3.62422506e-02 3.40174458e-01\n",
      "  3.04951085e-02 1.24138270e-02 3.21770823e-02 7.58584752e-02\n",
      "  8.56648637e-03 2.22706322e-02 1.06267579e-02 1.34516520e-02\n",
      "  1.04672922e-02 1.07385722e-02 5.56438489e-02 1.54866086e-02\n",
      "  1.93315299e-02 1.81417291e-02 1.52714009e-03 1.08784066e-02\n",
      "  5.46813581e-03 0.00000000e+00 5.82757816e-02 0.00000000e+00\n",
      "  0.00000000e+00 1.81207027e-03 0.00000000e+00 2.96221024e-03\n",
      "  2.18577600e-03 1.93896115e-03 2.92919388e-03 1.07893782e-03\n",
      "  1.94873857e-03 1.18639580e-03 1.88242941e-03 0.00000000e+00\n",
      "  2.94451154e-03 2.51764247e-03 0.00000000e+00 7.26706326e-03\n",
      "  1.51317742e-03 5.14294811e-03 1.58809553e-03 3.81752679e-03\n",
      "  5.08653742e-04 2.25003742e-03]]\n",
      "[47]\n"
     ]
    }
   ],
   "source": [
    "y_pred = ensemble.classify_proba(X_val_pca[8].reshape(1, -1))\n",
    "# Print the predicted class\n",
    "\n",
    "print(f\"Predicted class: {y_pred}\")\n",
    " \n",
    "print(np.argmax(y_pred, axis=1))"
   ]
  },
  {
   "cell_type": "code",
   "execution_count": 11,
   "id": "0ffc912f",
   "metadata": {},
   "outputs": [
    {
     "name": "stdout",
     "output_type": "stream",
     "text": [
      "Accuracy: 0.0055\n"
     ]
    }
   ],
   "source": [
    "y_pred = ensemble.classify(X_val_pca)\n",
    "\n",
    "#print accuracy\n",
    "accuracy = accuracy_score(y_val, y_pred)\n",
    "print(f\"Accuracy: {accuracy:.4f}\")\n"
   ]
  }
 ],
 "metadata": {
  "kernelspec": {
   "display_name": "venv",
   "language": "python",
   "name": "python3"
  },
  "language_info": {
   "codemirror_mode": {
    "name": "ipython",
    "version": 3
   },
   "file_extension": ".py",
   "mimetype": "text/x-python",
   "name": "python",
   "nbconvert_exporter": "python",
   "pygments_lexer": "ipython3",
   "version": "3.12.3"
  }
 },
 "nbformat": 4,
 "nbformat_minor": 5
}
