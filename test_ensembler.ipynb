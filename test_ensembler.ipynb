{
 "cells": [
  {
   "cell_type": "code",
   "execution_count": 1,
   "id": "5829ce21",
   "metadata": {},
   "outputs": [],
   "source": [
    "import torch\n",
    "import matplotlib.pyplot as plt\n",
    "import os\n",
    "from sklearn.metrics import accuracy_score\n",
    "import joblib\n",
    "import sys\n",
    "import numpy as np\n",
    "import json\n",
    "import time\n",
    "from sklearn.metrics import (\n",
    "    accuracy_score, recall_score, f1_score, precision_score, roc_auc_score,\n",
    "    top_k_accuracy_score\n",
    ")\n",
    "\n",
    "\n",
    "CLIP_FEATURES_DIR = \"clip_features\"\n",
    "VAL = CLIP_FEATURES_DIR + \"/val_features.pt\"\n",
    "SCALER = \"scaler_model.joblib\"\n",
    "PCA = \"pca_model.joblib\"\n",
    "LIME = \"top_k_lime_indices.joblib\""
   ]
  },
  {
   "cell_type": "code",
   "execution_count": 2,
   "id": "1bbe21a2",
   "metadata": {},
   "outputs": [],
   "source": [
    "def load_features(file_path):\n",
    "    data = torch.load(file_path)\n",
    "    return data[\"image_features\"], data[\"text_features\"], data[\"filenames\"], data[\"labels\"]\n",
    "\n",
    "\n",
    "# Load train and validation features\n",
    "val_img_features, val_txt_features, _, val_labels = load_features(VAL)"
   ]
  },
  {
   "cell_type": "code",
   "execution_count": 3,
   "id": "7a390434",
   "metadata": {},
   "outputs": [
    {
     "name": "stdout",
     "output_type": "stream",
     "text": [
      "X_val shape: (1985, 1024)\n"
     ]
    }
   ],
   "source": [
    "# Combine image and text features for training\n",
    "X_val = torch.cat((val_img_features, val_txt_features), dim=1)\n",
    "\n",
    "# Flatten features into a 2D matrix (samples x features)\n",
    "X_val = X_val.view(X_val.size(0), -1).numpy()\n",
    "\n",
    "# Print the shape of the features\n",
    "print(f\"X_val shape: {X_val.shape}\")\n",
    "\n",
    "# Convert labels to NumPy arrays\n",
    "y_val = val_labels.numpy()  \n",
    "\n",
    "# Load scaler and PCA models\n",
    "scaler = joblib.load(SCALER)\n",
    "pca = joblib.load(PCA)\n",
    "lime = joblib.load(LIME)\n",
    "\n",
    "# Scale and transform the features\n",
    "X_val_scaled = scaler.transform(X_val)\n",
    "X_val_pca = pca.transform(X_val_scaled)\n",
    "X_val_lime = X_val_scaled[:, lime]"
   ]
  },
  {
   "cell_type": "code",
   "execution_count": 4,
   "id": "1bf97dd2",
   "metadata": {},
   "outputs": [
    {
     "name": "stdout",
     "output_type": "stream",
     "text": [
      "Loaded model from: models_pca_cal_sig/SVM.joblib\n",
      "Loaded label encoder from: models_pca_cal_sig/label_encoder.joblib\n",
      "Loaded model from: models_pca_cal_sig/RBF.joblib\n",
      "Loaded label encoder from: models_pca_cal_sig/label_encoder.joblib\n",
      "Loaded model from: models_pca_cal_sig/RandomForest.joblib\n",
      "Loaded label encoder from: models_pca_cal_sig/label_encoder.joblib\n",
      "Loaded model from: models_pca_cal_sig/NaiveBayes.joblib\n",
      "Loaded label encoder from: models_pca_cal_sig/label_encoder.joblib\n",
      "Loaded model from: models_pca_cal_sig/LogisticRegression.joblib\n",
      "Loaded label encoder from: models_pca_cal_sig/label_encoder.joblib\n",
      "Loaded model from: models_pca_cal_sig/LDA.joblib\n",
      "Loaded label encoder from: models_pca_cal_sig/label_encoder.joblib\n",
      "Loaded model from: models_pca_cal_sig/KNN.joblib\n",
      "Loaded label encoder from: models_pca_cal_sig/label_encoder.joblib\n",
      "Loaded model from: models_pca_cal_sig/DecisionTree.joblib\n",
      "Loaded label encoder from: models_pca_cal_sig/label_encoder.joblib\n",
      "Loaded model from: models_pca_cal_sig/AdaBoost.joblib\n",
      "Loaded label encoder from: models_pca_cal_sig/label_encoder.joblib\n",
      "Loaded model from: models_pca_cal_sig/GBM.joblib\n",
      "Loaded label encoder from: models_pca_cal_sig/label_encoder.joblib\n",
      "Loaded model from: models_pca_cal_sig/XGBoost.joblib\n",
      "Loaded label encoder from: models_pca_cal_sig/label_encoder.joblib\n"
     ]
    }
   ],
   "source": [
    "from classifiers import (\n",
    "    SVMClassifier, RBFClassifier, RandomForestClassifier, NaiveBayesClassifier, \n",
    "    LogisticRegressionClassifier, LDAClassifier, KNNClassifier, DecisionTreeClassifier,\n",
    "    AdaBoostClassifier, GBMClassifier, XGBoostClassifier\n",
    ")\n",
    "\n",
    "from ensembler import EnsemblerClassifier\n",
    "\n",
    "# Instantiate classifiers\n",
    "classifiers = [\n",
    "    SVMClassifier(), RBFClassifier(), RandomForestClassifier(), NaiveBayesClassifier(),\n",
    "    LogisticRegressionClassifier(), LDAClassifier(), KNNClassifier(),\n",
    "    DecisionTreeClassifier(), AdaBoostClassifier(), GBMClassifier(),\n",
    "    XGBoostClassifier()\n",
    "]\n",
    "\n",
    "# Define weights\n",
    "weights = [0.2, 0.0, 0.1, 0.05, 0.1, 0.05, 0.05, 0.1, 0.1, 0.2, 0.05]\n",
    "\n",
    "# Load models\n",
    "for clf in classifiers:\n",
    "    clf.load(model_dir=\"models_pca_cal_sig\")\n",
    "\n",
    "# Build ensemble input as (classifier, weight) pairs\n",
    "classifier_weight_pairs = list(zip(classifiers, weights))\n",
    "\n",
    "# Initialize ensemble\n",
    "ensemble = EnsemblerClassifier(classifier_weight_pairs)\n",
    "\n",
    "\n",
    "\n"
   ]
  },
  {
   "cell_type": "code",
   "execution_count": null,
   "id": "0b9b9d69",
   "metadata": {},
   "outputs": [
    {
     "name": "stdout",
     "output_type": "stream",
     "text": [
      "Classes from classifier: [ 0  1  2  3  4  5  6  7  8  9 10 11 12 13 14 15 16 17 18 19 20 21 22 23\n",
      " 24 25 26 27 28 29 30 31 32 33 34 35 36 37 38 39 40 41 42 43 44 45 46 47\n",
      " 48 49 50 51 52 53 54 55 56 57 58 59 60 61 62 63 64 65 66 67 68 69 70 71\n",
      " 72 73 74 75 76]\n"
     ]
    }
   ],
   "source": [
    "\n",
    "classifier = classifiers[0]  \n",
    "#print(\"Classes from classifier:\", classifier.model.classes_)\n",
    "\n",
    "  \n",
    "y_pred = classifier.classify(X_val_pca)\n",
    "y_prob = classifier.classify_proba(X_val_pca)\n",
    "y_pred2 = np.argmax(y_prob, axis=1) + 1\n",
    "\n",
    "# Calculate metrics\n",
    "accuracy = accuracy_score(y_val, y_pred)\n",
    "accuracy2 = accuracy_score(y_val, y_pred2)\n",
    "recall = recall_score(y_val, y_pred, average='macro')\n",
    "recall2 = recall_score(y_val, y_pred2, average='macro')\n",
    "f1 = f1_score(y_val, y_pred, average='macro')\n",
    "f1_2 = f1_score(y_val, y_pred2, average='macro')\n",
    "\n",
    "#print(\"Shape of y_prob:\", y_prob.shape)\n",
    "#print(\"Unique labels in y_val:\", np.unique(y_val))\n",
    "\n",
    "\n",
    "print(\"Accuracy\", accuracy)\n",
    "print(\"Accuracy2\", accuracy2)\n",
    "print(\"Recall\", recall)\n",
    "print(\"Recall2\", recall2)\n",
    "print(\"F1 Score\", f1)\n",
    "print(\"F1 Score2\", f1_2)\n",
    " \n"
   ]
  },
  {
   "cell_type": "code",
   "execution_count": 6,
   "id": "0f60e278",
   "metadata": {},
   "outputs": [
    {
     "data": {
      "image/png": "[encoded data removed]",
      "text/plain": [
       "<Figure size 640x480 with 1 Axes>"
      ]
     },
     "metadata": {},
     "output_type": "display_data"
    }
   ],
   "source": [
    "proba = ensemble.classify_proba(X_val_pca)\n",
    "confidences = np.max(proba, axis=1)\n",
    "import matplotlib.pyplot as plt\n",
    "plt.hist(confidences, bins=50)\n",
    "plt.title(\"Max predicted probability (confidence)\")\n",
    "plt.show()"
   ]
  },
  {
   "cell_type": "code",
   "execution_count": null,
   "id": "0ffc912f",
   "metadata": {},
   "outputs": [
    {
     "name": "stdout",
     "output_type": "stream",
     "text": [
      "Accuracy: 0.0045\n",
      "Max Accuracy: 0.0045\n",
      "Recall: 0.0045\n",
      "Recall: 0.0045\n",
      "F1 Score: 0.0049\n",
      "Precision: 0.0065\n",
      "ROC AUC: 0.9434\n",
      "Top-k Accuracy: 0.9068\n"
     ]
    },
    {
     "name": "stderr",
     "output_type": "stream",
     "text": [
      "/home/tiago/thesis/venv/lib/python3.12/site-packages/sklearn/metrics/_classification.py:1565: UndefinedMetricWarning: Recall is ill-defined and being set to 0.0 in labels with no true samples. Use `zero_division` parameter to control this behavior.\n",
      "  _warn_prf(average, modifier, f\"{metric.capitalize()} is\", len(result))\n",
      "/home/tiago/thesis/venv/lib/python3.12/site-packages/sklearn/metrics/_classification.py:1565: UndefinedMetricWarning: Recall is ill-defined and being set to 0.0 in labels with no true samples. Use `zero_division` parameter to control this behavior.\n",
      "  _warn_prf(average, modifier, f\"{metric.capitalize()} is\", len(result))\n",
      "/home/tiago/thesis/venv/lib/python3.12/site-packages/sklearn/metrics/_classification.py:1565: UndefinedMetricWarning: Precision is ill-defined and being set to 0.0 in labels with no predicted samples. Use `zero_division` parameter to control this behavior.\n",
      "  _warn_prf(average, modifier, f\"{metric.capitalize()} is\", len(result))\n",
      "/home/tiago/thesis/venv/lib/python3.12/site-packages/sklearn/metrics/_ranking.py:379: UndefinedMetricWarning: Only one class is present in y_true. ROC AUC score is not defined in that case.\n",
      "  warnings.warn(\n",
      "/home/tiago/thesis/venv/lib/python3.12/site-packages/sklearn/metrics/_ranking.py:379: UndefinedMetricWarning: Only one class is present in y_true. ROC AUC score is not defined in that case.\n",
      "  warnings.warn(\n",
      "/home/tiago/thesis/venv/lib/python3.12/site-packages/sklearn/metrics/_ranking.py:379: UndefinedMetricWarning: Only one class is present in y_true. ROC AUC score is not defined in that case.\n",
      "  warnings.warn(\n",
      "/home/tiago/thesis/venv/lib/python3.12/site-packages/sklearn/metrics/_ranking.py:379: UndefinedMetricWarning: Only one class is present in y_true. ROC AUC score is not defined in that case.\n",
      "  warnings.warn(\n",
      "/home/tiago/thesis/venv/lib/python3.12/site-packages/sklearn/metrics/_ranking.py:379: UndefinedMetricWarning: Only one class is present in y_true. ROC AUC score is not defined in that case.\n",
      "  warnings.warn(\n",
      "/home/tiago/thesis/venv/lib/python3.12/site-packages/sklearn/metrics/_ranking.py:379: UndefinedMetricWarning: Only one class is present in y_true. ROC AUC score is not defined in that case.\n",
      "  warnings.warn(\n",
      "/home/tiago/thesis/venv/lib/python3.12/site-packages/sklearn/metrics/_ranking.py:379: UndefinedMetricWarning: Only one class is present in y_true. ROC AUC score is not defined in that case.\n",
      "  warnings.warn(\n",
      "/home/tiago/thesis/venv/lib/python3.12/site-packages/sklearn/metrics/_ranking.py:379: UndefinedMetricWarning: Only one class is present in y_true. ROC AUC score is not defined in that case.\n",
      "  warnings.warn(\n"
     ]
    }
   ],
   "source": [
    "y_pred = ensemble.classify(X_val_pca)\n",
    "y_proba = ensemble.classify_proba(X_val_pca)\n",
    "\n",
    "\n",
    "#print accuracy\n",
    "accuracy = accuracy_score(y_val, y_pred)\n",
    "print(f\"Accuracy: {accuracy:.4f}\")\n",
    "\n",
    "\n",
    "# Print other metrics\n",
    "recall = recall_score(y_val, y_pred, average='weighted')\n",
    "print(f\"Recall: {recall:.4f}\")\n",
    "\n",
    "f1 = f1_score(y_val, y_pred, average='weighted')\n",
    "print(f\"F1 Score: {f1:.4f}\")\n",
    "precision = precision_score(y_val, y_pred, average='weighted')\n",
    "print(f\"Precision: {precision:.4f}\")\n",
    "roc_auc = roc_auc_score(y_val, y_proba, multi_class='ovr', average='weighted', labels=np.arange(1, 91))\n",
    "print(f\"ROC AUC: {roc_auc:.4f}\")\n",
    "# Calculate top-k accuracy\n",
    "top_k_accuracy = top_k_accuracy_score(y_val, y_proba, k=5, labels=np.arange(1, 91))\n",
    "print(f\"Top-k Accuracy: {top_k_accuracy:.4f}\")\n"
   ]
  }
 ],
 "metadata": {
  "kernelspec": {
   "display_name": "venv",
   "language": "python",
   "name": "python3"
  },
  "language_info": {
   "codemirror_mode": {
    "name": "ipython",
    "version": 3
   },
   "file_extension": ".py",
   "mimetype": "text/x-python",
   "name": "python",
   "nbconvert_exporter": "python",
   "pygments_lexer": "ipython3",
   "version": "3.12.3"
  }
 },
 "nbformat": 4,
 "nbformat_minor": 5
}
