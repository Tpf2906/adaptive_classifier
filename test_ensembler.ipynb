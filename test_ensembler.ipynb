{
 "cells": [
  {
   "cell_type": "code",
   "execution_count": 1,
   "id": "5829ce21",
   "metadata": {},
   "outputs": [],
   "source": [
    "import torch\n",
    "import matplotlib.pyplot as plt\n",
    "import os\n",
    "from sklearn.metrics import accuracy_score\n",
    "import joblib\n",
    "import sys\n",
    "import numpy as np\n",
    "import json\n",
    "import time\n",
    "from sklearn.metrics import (\n",
    "    accuracy_score, recall_score, f1_score, precision_score, roc_auc_score,\n",
    "    top_k_accuracy_score\n",
    ")\n",
    "\n",
    "\n",
    "CLIP_FEATURES_DIR = \"clip_features\"\n",
    "VAL = CLIP_FEATURES_DIR + \"/val_features.pt\"\n",
    "SCALER = \"scaler_model.joblib\"\n",
    "PCA = \"pca_model.joblib\"\n",
    "LIME = \"top_k_lime_indices.joblib\""
   ]
  },
  {
   "cell_type": "code",
   "execution_count": 2,
   "id": "1bbe21a2",
   "metadata": {},
   "outputs": [],
   "source": [
    "def load_features(file_path):\n",
    "    data = torch.load(file_path)\n",
    "    return data[\"image_features\"], data[\"text_features\"], data[\"filenames\"], data[\"labels\"]\n",
    "\n",
    "\n",
    "# Load train and validation features\n",
    "val_img_features, val_txt_features, _, val_labels = load_features(VAL)"
   ]
  },
  {
   "cell_type": "code",
   "execution_count": 3,
   "id": "7a390434",
   "metadata": {},
   "outputs": [
    {
     "name": "stdout",
     "output_type": "stream",
     "text": [
      "X_val shape: (1985, 1024)\n"
     ]
    }
   ],
   "source": [
    "# Combine image and text features for training\n",
    "X_val = torch.cat((val_img_features, val_txt_features), dim=1)\n",
    "\n",
    "# Flatten features into a 2D matrix (samples x features)\n",
    "X_val = X_val.view(X_val.size(0), -1).numpy()\n",
    "\n",
    "# Print the shape of the features\n",
    "print(f\"X_val shape: {X_val.shape}\")\n",
    "\n",
    "# Convert labels to NumPy arrays\n",
    "y_val = val_labels.numpy()  \n",
    "\n",
    "# Load scaler and PCA models\n",
    "scaler = joblib.load(SCALER)\n",
    "pca = joblib.load(PCA)\n",
    "lime = joblib.load(LIME)\n",
    "\n",
    "# Scale and transform the features\n",
    "X_val_scaled = scaler.transform(X_val)\n",
    "X_val_pca = pca.transform(X_val_scaled)\n",
    "X_val_lime = X_val_scaled[:, lime]"
   ]
  },
  {
   "cell_type": "code",
   "execution_count": 4,
   "id": "1bf97dd2",
   "metadata": {},
   "outputs": [
    {
     "name": "stdout",
     "output_type": "stream",
     "text": [
      "Loaded model from: models_pca/SVM.joblib\n",
      "Loaded label encoder from: models_pca/label_encoder.joblib\n",
      "Loaded model from: models_pca/RBF.joblib\n",
      "Loaded label encoder from: models_pca/label_encoder.joblib\n",
      "Loaded model from: models_pca/RandomForest.joblib\n",
      "Loaded label encoder from: models_pca/label_encoder.joblib\n",
      "Loaded model from: models_pca/NaiveBayes.joblib\n",
      "Loaded label encoder from: models_pca/label_encoder.joblib\n",
      "Loaded model from: models_pca/LogisticRegression.joblib\n",
      "Loaded label encoder from: models_pca/label_encoder.joblib\n",
      "Loaded model from: models_pca/LDA.joblib\n",
      "Loaded label encoder from: models_pca/label_encoder.joblib\n",
      "Loaded model from: models_pca/KNN.joblib\n",
      "Loaded label encoder from: models_pca/label_encoder.joblib\n",
      "Loaded model from: models_pca/DecisionTree.joblib\n",
      "Loaded label encoder from: models_pca/label_encoder.joblib\n",
      "Loaded model from: models_pca/AdaBoost.joblib\n",
      "Loaded label encoder from: models_pca/label_encoder.joblib\n",
      "Loaded model from: models_pca/GBM.joblib\n",
      "Loaded label encoder from: models_pca/label_encoder.joblib\n",
      "Loaded model from: models_pca/XGBoost.joblib\n",
      "Loaded label encoder from: models_pca/label_encoder.joblib\n"
     ]
    }
   ],
   "source": [
    "from classifiers import (\n",
    "    SVMClassifier, RBFClassifier, RandomForestClassifier, NaiveBayesClassifier, \n",
    "    LogisticRegressionClassifier, LDAClassifier, KNNClassifier, DecisionTreeClassifier,\n",
    "    AdaBoostClassifier, GBMClassifier, XGBoostClassifier\n",
    ")\n",
    "\n",
    "from ensembler.ensembler import EnsemblerClassifier\n",
    "\n",
    "# Instantiate classifiers\n",
    "classifiers = [\n",
    "    SVMClassifier(), RBFClassifier(), RandomForestClassifier(), NaiveBayesClassifier(),\n",
    "    LogisticRegressionClassifier(), LDAClassifier(), KNNClassifier(),\n",
    "    DecisionTreeClassifier(), AdaBoostClassifier(), GBMClassifier(),\n",
    "    XGBoostClassifier()\n",
    "]\n",
    "\n",
    "# Define weights\n",
    "weights = [0.2, 0.0, 0.1, 0.05, 0.1, 0.05, 0.05, 0.1, 0.1, 0.2, 0.05]\n",
    "\n",
    "# Load models\n",
    "for clf in classifiers:\n",
    "    clf.load()\n",
    "\n",
    "# Build ensemble input as (classifier, weight) pairs\n",
    "classifier_weight_pairs = list(zip(classifiers, weights))\n",
    "\n",
    "# Initialize ensemble\n",
    "ensemble = EnsemblerClassifier(classifier_weight_pairs)\n",
    "\n",
    "\n",
    "\n"
   ]
  },
  {
   "cell_type": "code",
   "execution_count": null,
   "id": "0b9b9d69",
   "metadata": {},
   "outputs": [
    {
     "name": "stdout",
     "output_type": "stream",
     "text": [
      "Predicted class: [61]\n"
     ]
    }
   ],
   "source": [
    "y_pred = ensemble.classify(X_val_pca[5].reshape(1, -1))\n",
    "# Print the predicted class\n",
    "print(f\"Predicted class: {y_pred}\")"
   ]
  }
 ],
 "metadata": {
  "kernelspec": {
   "display_name": "venv",
   "language": "python",
   "name": "python3"
  },
  "language_info": {
   "codemirror_mode": {
    "name": "ipython",
    "version": 3
   },
   "file_extension": ".py",
   "mimetype": "text/x-python",
   "name": "python",
   "nbconvert_exporter": "python",
   "pygments_lexer": "ipython3",
   "version": "3.12.3"
  }
 },
 "nbformat": 4,
 "nbformat_minor": 5
}
