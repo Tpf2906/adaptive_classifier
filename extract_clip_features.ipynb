{
 "cells": [
  {
   "cell_type": "markdown",
   "id": "91d1ac55",
   "metadata": {},
   "source": [
    "## Extract Features from Dataset"
   ]
  },
  {
   "cell_type": "code",
   "execution_count": 1,
   "id": "539f222a",
   "metadata": {},
   "outputs": [
    {
     "name": "stderr",
     "output_type": "stream",
     "text": [
      "/home/tiago/thesis/venv/lib/python3.12/site-packages/tqdm/auto.py:21: TqdmWarning: IProgress not found. Please update jupyter and ipywidgets. See https://ipywidgets.readthedocs.io/en/stable/user_install.html\n",
      "  from .autonotebook import tqdm as notebook_tqdm\n"
     ]
    }
   ],
   "source": [
    "import os\n",
    "import json\n",
    "import torch\n",
    "from tqdm import tqdm\n",
    "from PIL import Image\n",
    "from transformers import CLIPProcessor, CLIPModel\n",
    "from torchvision import transforms\n",
    "\n",
    "# === CONFIG ===\n",
    "DEVICE = \"cuda\" if torch.cuda.is_available() else \"cpu\"\n",
    "DATASET_DIR = \"dataset_cap\"\n",
    "SPLITS = [\"train\", \"val\"]\n",
    "OUTPUT_DIR = \"clip_features\"\n",
    "os.makedirs(OUTPUT_DIR, exist_ok=True)"
   ]
  },
  {
   "cell_type": "code",
   "execution_count": 2,
   "id": "82c9ba0e",
   "metadata": {},
   "outputs": [
    {
     "name": "stderr",
     "output_type": "stream",
     "text": [
      "Using a slow image processor as `use_fast` is unset and a slow processor was saved with this model. `use_fast=True` will be the default behavior in v4.52, even if the model was saved with a slow processor. This will result in minor differences in outputs. You'll still be able to use a slow processor with `use_fast=False`.\n"
     ]
    }
   ],
   "source": [
    "# === LOAD CLIP ===\n",
    "model = CLIPModel.from_pretrained(\"openai/clip-vit-base-patch32\").to(DEVICE)\n",
    "processor = CLIPProcessor.from_pretrained(\"openai/clip-vit-base-patch32\")"
   ]
  },
  {
   "cell_type": "code",
   "execution_count": 3,
   "id": "79e4d135",
   "metadata": {},
   "outputs": [],
   "source": [
    "def load_image(path):\n",
    "    image = Image.open(path).convert(\"RGB\")\n",
    "    return image"
   ]
  },
  {
   "cell_type": "code",
   "execution_count": 4,
   "id": "5f9714ca",
   "metadata": {},
   "outputs": [
    {
     "name": "stdout",
     "output_type": "stream",
     "text": [
      "Processing split: train\n"
     ]
    },
    {
     "name": "stderr",
     "output_type": "stream",
     "text": [
      "100%|██████████| 7919/7919 [02:27<00:00, 53.63it/s]\n"
     ]
    },
    {
     "name": "stdout",
     "output_type": "stream",
     "text": [
      "Saved features for train to clip_features/train_features.pt\n",
      "Processing split: val\n"
     ]
    },
    {
     "name": "stderr",
     "output_type": "stream",
     "text": [
      "100%|██████████| 1985/1985 [00:36<00:00, 54.34it/s]"
     ]
    },
    {
     "name": "stdout",
     "output_type": "stream",
     "text": [
      "Saved features for val to clip_features/val_features.pt\n"
     ]
    },
    {
     "name": "stderr",
     "output_type": "stream",
     "text": [
      "\n"
     ]
    }
   ],
   "source": [
    "for split in SPLITS:\n",
    "    print(f\"Processing split: {split}\")\n",
    "    image_dir = os.path.join(DATASET_DIR, split, \"images\")\n",
    "    caption_path = os.path.join(DATASET_DIR, split, \"captions.json\")\n",
    "\n",
    "    with open(caption_path, \"r\") as f:\n",
    "        captions_data = json.load(f)\n",
    "\n",
    "    img_features = []\n",
    "    txt_features = []\n",
    "    labels = []\n",
    "    filenames = []\n",
    "\n",
    "    for fname, info in tqdm(captions_data.items()):\n",
    "        img_path = os.path.join(image_dir, fname)\n",
    "        if not os.path.exists(img_path):\n",
    "            continue\n",
    "\n",
    "        image = load_image(img_path)\n",
    "\n",
    "        caption = info[\"captions\"][0] if isinstance(info[\"captions\"], list) else info[\"captions\"]\n",
    "        category_id = info.get(\"category_id\", -1)\n",
    "\n",
    "        inputs = processor(text=caption, images=image, return_tensors=\"pt\", padding=True).to(DEVICE)\n",
    "\n",
    "        with torch.no_grad():\n",
    "            outputs = model(**inputs)\n",
    "            img_feat = outputs.image_embeds[0].cpu()\n",
    "            txt_feat = outputs.text_embeds[0].cpu()\n",
    "\n",
    "        img_features.append(img_feat)\n",
    "        txt_features.append(txt_feat)\n",
    "        labels.append(category_id)\n",
    "        filenames.append(fname)\n",
    "\n",
    "    # Save tensors\n",
    "    torch.save({\n",
    "        \"image_features\": torch.stack(img_features),\n",
    "        \"text_features\": torch.stack(txt_features),\n",
    "        \"labels\": torch.tensor(labels),\n",
    "        \"filenames\": filenames\n",
    "    }, os.path.join(OUTPUT_DIR, f\"{split}_features.pt\"))\n",
    "\n",
    "    print(f\"Saved features for {split} to {os.path.join(OUTPUT_DIR, f'{split}_features.pt')}\")"
   ]
  }
 ],
 "metadata": {
  "kernelspec": {
   "display_name": "venv",
   "language": "python",
   "name": "python3"
  },
  "language_info": {
   "codemirror_mode": {
    "name": "ipython",
    "version": 3
   },
   "file_extension": ".py",
   "mimetype": "text/x-python",
   "name": "python",
   "nbconvert_exporter": "python",
   "pygments_lexer": "ipython3",
   "version": "3.12.3"
  }
 },
 "nbformat": 4,
 "nbformat_minor": 5
}
